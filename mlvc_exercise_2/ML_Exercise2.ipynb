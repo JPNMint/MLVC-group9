{
 "cells": [
  {
   "cell_type": "markdown",
   "metadata": {},
   "source": [
    "# ML-Exercise 2"
   ]
  },
  {
   "cell_type": "markdown",
   "metadata": {},
   "source": [
    "This notebook contains the second exercise of the Machine Learning for Visual Computing (183.605) lecture at TU Wien. Assignment via TUWEL. Please be aware of the deadlines in TUWEL.\n",
    "\n",
    "* Upload a zip-file with the required programms. The programming language is python.\n",
    "    1. Gaussian Process --> `solutions/gaussian_process.py`\n",
    "    3. Vision Transformer --> `solutions/vision_transformer.py`\n",
    "* If you needed additional conda or pip packages add an anaconda environment.yml to the zip-file\n",
    "    1. conda env export > environment.yml\n",
    "    2. See --> https://conda.io/projects/conda/en/latest/user-guide/tasks/manage-environments.html#sharing-an-environment"
   ]
  },
  {
   "cell_type": "markdown",
   "metadata": {},
   "source": [
    "## Settings"
   ]
  },
  {
   "cell_type": "code",
   "execution_count": 5,
   "metadata": {},
   "outputs": [],
   "source": [
    "NUM_SAMPLES = 2500\n",
    "VALID_RATIO = 0.9\n",
    "BATCH_SIZE = 4096\n",
    "EPOCHS_SLP = 100\n",
    "EPOCHS_MLP = 50\n",
    "\n",
    "LR_SLP = 0.5\n",
    "LR_MLP = 0.001"
   ]
  },
  {
   "cell_type": "markdown",
   "metadata": {},
   "source": [
    "## Imports"
   ]
  },
  {
   "cell_type": "code",
   "execution_count": 6,
   "metadata": {},
   "outputs": [
    {
     "name": "stdout",
     "output_type": "stream",
     "text": [
      "Mon Jan  9 17:43:02 2023       \n",
      "+-----------------------------------------------------------------------------+\n",
      "| NVIDIA-SMI 516.01       Driver Version: 516.01       CUDA Version: 11.7     |\n",
      "|-------------------------------+----------------------+----------------------+\n",
      "| GPU  Name            TCC/WDDM | Bus-Id        Disp.A | Volatile Uncorr. ECC |\n",
      "| Fan  Temp  Perf  Pwr:Usage/Cap|         Memory-Usage | GPU-Util  Compute M. |\n",
      "|                               |                      |               MIG M. |\n",
      "|===============================+======================+======================|\n",
      "|   0  NVIDIA GeForce ... WDDM  | 00000000:1D:00.0  On |                  N/A |\n",
      "| 33%   38C    P0    23W / 130W |   2051MiB /  6144MiB |      1%      Default |\n",
      "|                               |                      |                  N/A |\n",
      "+-------------------------------+----------------------+----------------------+\n",
      "                                                                               \n",
      "+-----------------------------------------------------------------------------+\n",
      "| Processes:                                                                  |\n",
      "|  GPU   GI   CI        PID   Type   Process name                  GPU Memory |\n",
      "|        ID   ID                                                   Usage      |\n",
      "|=============================================================================|\n",
      "|    0   N/A  N/A      4104    C+G   ...logioptionsplus_agent.exe    N/A      |\n",
      "|    0   N/A  N/A      6832    C+G   C:\\Windows\\explorer.exe         N/A      |\n",
      "|    0   N/A  N/A      7756    C+G   ...3\\jbr\\bin\\jcef_helper.exe    N/A      |\n",
      "|    0   N/A  N/A      7864    C+G   ...8wekyb3d8bbwe\\GameBar.exe    N/A      |\n",
      "|    0   N/A  N/A     10068    C+G   ...zpdnekdrzrea0\\Spotify.exe    N/A      |\n",
      "|    0   N/A  N/A     10520    C+G   ...artMenuExperienceHost.exe    N/A      |\n",
      "|    0   N/A  N/A     10540    C+G   ...n1h2txyewy\\SearchHost.exe    N/A      |\n",
      "|    0   N/A  N/A     12924    C+G   ...2txyewy\\TextInputHost.exe    N/A      |\n",
      "|    0   N/A  N/A     13172    C+G   ...perience\\NVIDIA Share.exe    N/A      |\n",
      "|    0   N/A  N/A     13864    C+G   ...zilla Firefox\\firefox.exe    N/A      |\n",
      "|    0   N/A  N/A     14152    C+G   ...ray\\lghub_system_tray.exe    N/A      |\n",
      "|    0   N/A  N/A     14292    C+G   ...ram Files\\LGHUB\\lghub.exe    N/A      |\n",
      "|    0   N/A  N/A     15112    C+G   ...\\Programs\\OP.GG\\OP.GG.exe    N/A      |\n",
      "|    0   N/A  N/A     15596    C+G   ...signal-desktop\\Signal.exe    N/A      |\n",
      "|    0   N/A  N/A     16352    C+G   ...8wekyb3d8bbwe\\Cortana.exe    N/A      |\n",
      "|    0   N/A  N/A     17844    C+G   ...462.76\\msedgewebview2.exe    N/A      |\n",
      "|    0   N/A  N/A     17908    C+G   ...icePlugin\\SelfService.exe    N/A      |\n",
      "|    0   N/A  N/A     18688    C+G   ...zilla Firefox\\firefox.exe    N/A      |\n",
      "|    0   N/A  N/A     18956    C+G   ...462.76\\msedgewebview2.exe    N/A      |\n",
      "|    0   N/A  N/A     20160    C+G   ...v1g1gvanyjgm\\WhatsApp.exe    N/A      |\n",
      "|    0   N/A  N/A     20180    C+G   ...lPanel\\SystemSettings.exe    N/A      |\n",
      "|    0   N/A  N/A     21736    C+G   ...wekyb3d8bbwe\\Video.UI.exe    N/A      |\n",
      "|    0   N/A  N/A     22996    C+G   ...y\\ShellExperienceHost.exe    N/A      |\n",
      "+-----------------------------------------------------------------------------+\n"
     ]
    }
   ],
   "source": [
    "import os\n",
    "import matplotlib.pyplot as plt\n",
    "import numpy as np\n",
    "from random import randint\n",
    "import cv2\n",
    "from numba import jit\n",
    "import pandas as pd\n",
    "from tqdm import tqdm, trange\n",
    "import math\n",
    "import torch.optim as optim\n",
    "from torchinfo import summary\n",
    "from torch import nn\n",
    "np.set_printoptions(suppress=True)\n",
    "\n",
    "!nvidia-smi\n",
    "\n",
    "os.environ[\"CUDA_VISIBLE_DEVICES\"]=\"0\""
   ]
  },
  {
   "cell_type": "markdown",
   "metadata": {},
   "source": [
    "## Generate and prepare data"
   ]
  },
  {
   "cell_type": "code",
   "execution_count": 7,
   "metadata": {},
   "outputs": [],
   "source": [
    "from util.generate_dataset import make_dataset"
   ]
  },
  {
   "cell_type": "code",
   "execution_count": 8,
   "metadata": {},
   "outputs": [
    {
     "name": "stdout",
     "output_type": "stream",
     "text": [
      "(2500, 16384) (2500,)\n",
      "(2000, 16384) (2000,) (500, 16384) (500,)\n"
     ]
    }
   ],
   "source": [
    "dataset, labels = make_dataset(int(NUM_SAMPLES/2))\n",
    "print(dataset.shape, labels.shape)\n",
    "dataset_train = dataset[:int(NUM_SAMPLES*0.8)]\n",
    "labels_train = labels[:int(NUM_SAMPLES*0.8)]\n",
    "\n",
    "dataset_val = dataset[int(NUM_SAMPLES*0.8):]\n",
    "labels_val = labels[int(NUM_SAMPLES*0.8):]\n",
    "\n",
    "print(dataset_train.shape, labels_train.shape, dataset_val.shape, labels_val.shape)"
   ]
  },
  {
   "cell_type": "markdown",
   "metadata": {},
   "source": [
    "## Gaussian Processes"
   ]
  },
  {
   "cell_type": "code",
   "execution_count": 9,
   "metadata": {},
   "outputs": [],
   "source": [
    "# Imports\n",
    "%matplotlib inline\n",
    "%config InlineBackend.figure_format = 'svg'\n",
    "\n",
    "import numpy as np\n",
    "import scipy\n",
    "import matplotlib\n",
    "import matplotlib.pyplot as plt\n",
    "from matplotlib import cm\n",
    "from mpl_toolkits.axes_grid1 import make_axes_locatable\n",
    "import matplotlib.gridspec as gridspec\n",
    "import seaborn as sns\n",
    "\n",
    "# Set matplotlib and seaborn plotting style\n",
    "sns.set_style('darkgrid')\n",
    "np.random.seed(42)\n",
    "#"
   ]
  },
  {
   "cell_type": "code",
   "execution_count": 10,
   "metadata": {},
   "outputs": [],
   "source": [
    "from util.gaussian_process_util import plot_gp_results, exponentiated_quadratic\n",
    "from solutions.gaussian_process import gaussian_process, gaussian_process_noise\n",
    "from sklearn.gaussian_process.kernels import *"
   ]
  },
  {
   "cell_type": "code",
   "execution_count": 11,
   "metadata": {},
   "outputs": [
    {
     "data": {
      "text/plain": "<Figure size 1000x600 with 2 Axes>",
      "image/svg+xml": "<?xml version=\"1.0\" encoding=\"utf-8\" standalone=\"no\"?>\n<!DOCTYPE svg PUBLIC \"-//W3C//DTD SVG 1.1//EN\"\n  \"http://www.w3.org/Graphics/SVG/1.1/DTD/svg11.dtd\">\n<svg xmlns:xlink=\"http://www.w3.org/1999/xlink\" width=\"711.650469pt\" height=\"422.833594pt\" viewBox=\"0 0 711.650469 422.833594\" xmlns=\"http://www.w3.org/2000/svg\" version=\"1.1\">\n <metadata>\n  <rdf:RDF xmlns:dc=\"http://purl.org/dc/elements/1.1/\" xmlns:cc=\"http://creativecommons.org/ns#\" xmlns:rdf=\"http://www.w3.org/1999/02/22-rdf-syntax-ns#\">\n   <cc:Work>\n    <dc:type rdf:resource=\"http://purl.org/dc/dcmitype/StillImage\"/>\n    <dc:date>2023-01-09T17:43:09.496579</dc:date>\n    <dc:format>image/svg+xml</dc:format>\n    <dc:creator>\n     <cc:Agent>\n      <dc:title>Matplotlib v3.6.2, https://matplotlib.org/</dc:title>\n     </cc:Agent>\n    </dc:creator>\n   </cc:Work>\n  </rdf:RDF>\n </metadata>\n <defs>\n  <style type=\"text/css\">*{stroke-linejoin: round; stroke-linecap: butt}</style>\n </defs>\n <g id=\"figure_1\">\n  <g id=\"patch_1\">\n   <path d=\"M 0 422.833594 \nL 711.650469 422.833594 \nL 711.650469 0 \nL 0 0 \nz\n\" style=\"fill: #ffffff\"/>\n  </g>\n  <g id=\"axes_1\">\n   <g id=\"patch_2\">\n    <path d=\"M 49.829531 172.999375 \nL 698.889531 172.999375 \nL 698.889531 21.935625 \nL 49.829531 21.935625 \nz\n\" style=\"fill: #eaeaf2\"/>\n   </g>\n   <g id=\"matplotlib.axis_1\">\n    <g id=\"xtick_1\">\n     <g id=\"line2d_1\">\n      <path d=\"M 49.829531 172.999375 \nL 49.829531 21.935625 \n\" clip-path=\"url(#p853b1341d2)\" style=\"fill: none; stroke: #ffffff; stroke-width: 0.8; stroke-linecap: round\"/>\n     </g>\n     <g id=\"text_1\">\n      <!-- 0 -->\n      <g style=\"fill: #262626\" transform=\"translate(47.049063 187.157188) scale(0.1 -0.1)\">\n       <defs>\n        <path id=\"ArialMT-30\" d=\"M 266 2259 \nQ 266 3072 433 3567 \nQ 600 4063 929 4331 \nQ 1259 4600 1759 4600 \nQ 2128 4600 2406 4451 \nQ 2684 4303 2865 4023 \nQ 3047 3744 3150 3342 \nQ 3253 2941 3253 2259 \nQ 3253 1453 3087 958 \nQ 2922 463 2592 192 \nQ 2263 -78 1759 -78 \nQ 1097 -78 719 397 \nQ 266 969 266 2259 \nz\nM 844 2259 \nQ 844 1131 1108 757 \nQ 1372 384 1759 384 \nQ 2147 384 2411 759 \nQ 2675 1134 2675 2259 \nQ 2675 3391 2411 3762 \nQ 2147 4134 1753 4134 \nQ 1366 4134 1134 3806 \nQ 844 3388 844 2259 \nz\n\" transform=\"scale(0.015625)\"/>\n       </defs>\n       <use xlink:href=\"#ArialMT-30\"/>\n      </g>\n     </g>\n    </g>\n    <g id=\"xtick_2\">\n     <g id=\"line2d_2\">\n      <path d=\"M 179.641531 172.999375 \nL 179.641531 21.935625 \n\" clip-path=\"url(#p853b1341d2)\" style=\"fill: none; stroke: #ffffff; stroke-width: 0.8; stroke-linecap: round\"/>\n     </g>\n     <g id=\"text_2\">\n      <!-- 2 -->\n      <g style=\"fill: #262626\" transform=\"translate(176.861062 187.157188) scale(0.1 -0.1)\">\n       <defs>\n        <path id=\"ArialMT-32\" d=\"M 3222 541 \nL 3222 0 \nL 194 0 \nQ 188 203 259 391 \nQ 375 700 629 1000 \nQ 884 1300 1366 1694 \nQ 2113 2306 2375 2664 \nQ 2638 3022 2638 3341 \nQ 2638 3675 2398 3904 \nQ 2159 4134 1775 4134 \nQ 1369 4134 1125 3890 \nQ 881 3647 878 3216 \nL 300 3275 \nQ 359 3922 746 4261 \nQ 1134 4600 1788 4600 \nQ 2447 4600 2831 4234 \nQ 3216 3869 3216 3328 \nQ 3216 3053 3103 2787 \nQ 2991 2522 2730 2228 \nQ 2469 1934 1863 1422 \nQ 1356 997 1212 845 \nQ 1069 694 975 541 \nL 3222 541 \nz\n\" transform=\"scale(0.015625)\"/>\n       </defs>\n       <use xlink:href=\"#ArialMT-32\"/>\n      </g>\n     </g>\n    </g>\n    <g id=\"xtick_3\">\n     <g id=\"line2d_3\">\n      <path d=\"M 309.453531 172.999375 \nL 309.453531 21.935625 \n\" clip-path=\"url(#p853b1341d2)\" style=\"fill: none; stroke: #ffffff; stroke-width: 0.8; stroke-linecap: round\"/>\n     </g>\n     <g id=\"text_3\">\n      <!-- 4 -->\n      <g style=\"fill: #262626\" transform=\"translate(306.673062 187.157188) scale(0.1 -0.1)\">\n       <defs>\n        <path id=\"ArialMT-34\" d=\"M 2069 0 \nL 2069 1097 \nL 81 1097 \nL 81 1613 \nL 2172 4581 \nL 2631 4581 \nL 2631 1613 \nL 3250 1613 \nL 3250 1097 \nL 2631 1097 \nL 2631 0 \nL 2069 0 \nz\nM 2069 1613 \nL 2069 3678 \nL 634 1613 \nL 2069 1613 \nz\n\" transform=\"scale(0.015625)\"/>\n       </defs>\n       <use xlink:href=\"#ArialMT-34\"/>\n      </g>\n     </g>\n    </g>\n    <g id=\"xtick_4\">\n     <g id=\"line2d_4\">\n      <path d=\"M 439.265531 172.999375 \nL 439.265531 21.935625 \n\" clip-path=\"url(#p853b1341d2)\" style=\"fill: none; stroke: #ffffff; stroke-width: 0.8; stroke-linecap: round\"/>\n     </g>\n     <g id=\"text_4\">\n      <!-- 6 -->\n      <g style=\"fill: #262626\" transform=\"translate(436.485062 187.157188) scale(0.1 -0.1)\">\n       <defs>\n        <path id=\"ArialMT-36\" d=\"M 3184 3459 \nL 2625 3416 \nQ 2550 3747 2413 3897 \nQ 2184 4138 1850 4138 \nQ 1581 4138 1378 3988 \nQ 1113 3794 959 3422 \nQ 806 3050 800 2363 \nQ 1003 2672 1297 2822 \nQ 1591 2972 1913 2972 \nQ 2475 2972 2870 2558 \nQ 3266 2144 3266 1488 \nQ 3266 1056 3080 686 \nQ 2894 316 2569 119 \nQ 2244 -78 1831 -78 \nQ 1128 -78 684 439 \nQ 241 956 241 2144 \nQ 241 3472 731 4075 \nQ 1159 4600 1884 4600 \nQ 2425 4600 2770 4297 \nQ 3116 3994 3184 3459 \nz\nM 888 1484 \nQ 888 1194 1011 928 \nQ 1134 663 1356 523 \nQ 1578 384 1822 384 \nQ 2178 384 2434 671 \nQ 2691 959 2691 1453 \nQ 2691 1928 2437 2201 \nQ 2184 2475 1800 2475 \nQ 1419 2475 1153 2201 \nQ 888 1928 888 1484 \nz\n\" transform=\"scale(0.015625)\"/>\n       </defs>\n       <use xlink:href=\"#ArialMT-36\"/>\n      </g>\n     </g>\n    </g>\n    <g id=\"xtick_5\">\n     <g id=\"line2d_5\">\n      <path d=\"M 569.077531 172.999375 \nL 569.077531 21.935625 \n\" clip-path=\"url(#p853b1341d2)\" style=\"fill: none; stroke: #ffffff; stroke-width: 0.8; stroke-linecap: round\"/>\n     </g>\n     <g id=\"text_5\">\n      <!-- 8 -->\n      <g style=\"fill: #262626\" transform=\"translate(566.297063 187.157188) scale(0.1 -0.1)\">\n       <defs>\n        <path id=\"ArialMT-38\" d=\"M 1131 2484 \nQ 781 2613 612 2850 \nQ 444 3088 444 3419 \nQ 444 3919 803 4259 \nQ 1163 4600 1759 4600 \nQ 2359 4600 2725 4251 \nQ 3091 3903 3091 3403 \nQ 3091 3084 2923 2848 \nQ 2756 2613 2416 2484 \nQ 2838 2347 3058 2040 \nQ 3278 1734 3278 1309 \nQ 3278 722 2862 322 \nQ 2447 -78 1769 -78 \nQ 1091 -78 675 323 \nQ 259 725 259 1325 \nQ 259 1772 486 2073 \nQ 713 2375 1131 2484 \nz\nM 1019 3438 \nQ 1019 3113 1228 2906 \nQ 1438 2700 1772 2700 \nQ 2097 2700 2305 2904 \nQ 2513 3109 2513 3406 \nQ 2513 3716 2298 3927 \nQ 2084 4138 1766 4138 \nQ 1444 4138 1231 3931 \nQ 1019 3725 1019 3438 \nz\nM 838 1322 \nQ 838 1081 952 856 \nQ 1066 631 1291 507 \nQ 1516 384 1775 384 \nQ 2178 384 2440 643 \nQ 2703 903 2703 1303 \nQ 2703 1709 2433 1975 \nQ 2163 2241 1756 2241 \nQ 1359 2241 1098 1978 \nQ 838 1716 838 1322 \nz\n\" transform=\"scale(0.015625)\"/>\n       </defs>\n       <use xlink:href=\"#ArialMT-38\"/>\n      </g>\n     </g>\n    </g>\n    <g id=\"xtick_6\">\n     <g id=\"line2d_6\">\n      <path d=\"M 698.889531 172.999375 \nL 698.889531 21.935625 \n\" clip-path=\"url(#p853b1341d2)\" style=\"fill: none; stroke: #ffffff; stroke-width: 0.8; stroke-linecap: round\"/>\n     </g>\n     <g id=\"text_6\">\n      <!-- 10 -->\n      <g style=\"fill: #262626\" transform=\"translate(693.328594 187.157188) scale(0.1 -0.1)\">\n       <defs>\n        <path id=\"ArialMT-31\" d=\"M 2384 0 \nL 1822 0 \nL 1822 3584 \nQ 1619 3391 1289 3197 \nQ 959 3003 697 2906 \nL 697 3450 \nQ 1169 3672 1522 3987 \nQ 1875 4303 2022 4600 \nL 2384 4600 \nL 2384 0 \nz\n\" transform=\"scale(0.015625)\"/>\n       </defs>\n       <use xlink:href=\"#ArialMT-31\"/>\n       <use xlink:href=\"#ArialMT-30\" x=\"55.615234\"/>\n      </g>\n     </g>\n    </g>\n    <g id=\"text_7\">\n     <!-- $x$ -->\n     <g style=\"fill: #262626\" transform=\"translate(370.459531 202.449844) scale(0.13 -0.13)\">\n      <defs>\n       <path id=\"DejaVuSans-Oblique-78\" d=\"M 3841 3500 \nL 2234 1784 \nL 3219 0 \nL 2559 0 \nL 1819 1388 \nL 531 0 \nL -166 0 \nL 1556 1844 \nL 641 3500 \nL 1300 3500 \nL 1972 2234 \nL 3144 3500 \nL 3841 3500 \nz\n\" transform=\"scale(0.015625)\"/>\n      </defs>\n      <use xlink:href=\"#DejaVuSans-Oblique-78\" transform=\"translate(0 0.3125)\"/>\n     </g>\n    </g>\n   </g>\n   <g id=\"matplotlib.axis_2\">\n    <g id=\"ytick_1\">\n     <g id=\"line2d_7\">\n      <path d=\"M 49.829531 147.829487 \nL 698.889531 147.829487 \n\" clip-path=\"url(#p853b1341d2)\" style=\"fill: none; stroke: #ffffff; stroke-width: 0.8; stroke-linecap: round\"/>\n     </g>\n     <g id=\"text_8\">\n      <!-- −1.0 -->\n      <g style=\"fill: #262626\" transform=\"translate(23.088906 151.408393) scale(0.1 -0.1)\">\n       <defs>\n        <path id=\"ArialMT-2212\" d=\"M 3381 1997 \nL 356 1997 \nL 356 2522 \nL 3381 2522 \nL 3381 1997 \nz\n\" transform=\"scale(0.015625)\"/>\n        <path id=\"ArialMT-2e\" d=\"M 581 0 \nL 581 641 \nL 1222 641 \nL 1222 0 \nL 581 0 \nz\n\" transform=\"scale(0.015625)\"/>\n       </defs>\n       <use xlink:href=\"#ArialMT-2212\"/>\n       <use xlink:href=\"#ArialMT-31\" x=\"58.398438\"/>\n       <use xlink:href=\"#ArialMT-2e\" x=\"114.013672\"/>\n       <use xlink:href=\"#ArialMT-30\" x=\"141.796875\"/>\n      </g>\n     </g>\n    </g>\n    <g id=\"ytick_2\">\n     <g id=\"line2d_8\">\n      <path d=\"M 49.829531 122.648746 \nL 698.889531 122.648746 \n\" clip-path=\"url(#p853b1341d2)\" style=\"fill: none; stroke: #ffffff; stroke-width: 0.8; stroke-linecap: round\"/>\n     </g>\n     <g id=\"text_9\">\n      <!-- −0.5 -->\n      <g style=\"fill: #262626\" transform=\"translate(23.088906 126.227652) scale(0.1 -0.1)\">\n       <defs>\n        <path id=\"ArialMT-35\" d=\"M 266 1200 \nL 856 1250 \nQ 922 819 1161 601 \nQ 1400 384 1738 384 \nQ 2144 384 2425 690 \nQ 2706 997 2706 1503 \nQ 2706 1984 2436 2262 \nQ 2166 2541 1728 2541 \nQ 1456 2541 1237 2417 \nQ 1019 2294 894 2097 \nL 366 2166 \nL 809 4519 \nL 3088 4519 \nL 3088 3981 \nL 1259 3981 \nL 1013 2750 \nQ 1425 3038 1878 3038 \nQ 2478 3038 2890 2622 \nQ 3303 2206 3303 1553 \nQ 3303 931 2941 478 \nQ 2500 -78 1738 -78 \nQ 1113 -78 717 272 \nQ 322 622 266 1200 \nz\n\" transform=\"scale(0.015625)\"/>\n       </defs>\n       <use xlink:href=\"#ArialMT-2212\"/>\n       <use xlink:href=\"#ArialMT-30\" x=\"58.398438\"/>\n       <use xlink:href=\"#ArialMT-2e\" x=\"114.013672\"/>\n       <use xlink:href=\"#ArialMT-35\" x=\"141.796875\"/>\n      </g>\n     </g>\n    </g>\n    <g id=\"ytick_3\">\n     <g id=\"line2d_9\">\n      <path d=\"M 49.829531 97.468005 \nL 698.889531 97.468005 \n\" clip-path=\"url(#p853b1341d2)\" style=\"fill: none; stroke: #ffffff; stroke-width: 0.8; stroke-linecap: round\"/>\n     </g>\n     <g id=\"text_10\">\n      <!-- 0.0 -->\n      <g style=\"fill: #262626\" transform=\"translate(28.929531 101.046911) scale(0.1 -0.1)\">\n       <use xlink:href=\"#ArialMT-30\"/>\n       <use xlink:href=\"#ArialMT-2e\" x=\"55.615234\"/>\n       <use xlink:href=\"#ArialMT-30\" x=\"83.398438\"/>\n      </g>\n     </g>\n    </g>\n    <g id=\"ytick_4\">\n     <g id=\"line2d_10\">\n      <path d=\"M 49.829531 72.287263 \nL 698.889531 72.287263 \n\" clip-path=\"url(#p853b1341d2)\" style=\"fill: none; stroke: #ffffff; stroke-width: 0.8; stroke-linecap: round\"/>\n     </g>\n     <g id=\"text_11\">\n      <!-- 0.5 -->\n      <g style=\"fill: #262626\" transform=\"translate(28.929531 75.86617) scale(0.1 -0.1)\">\n       <use xlink:href=\"#ArialMT-30\"/>\n       <use xlink:href=\"#ArialMT-2e\" x=\"55.615234\"/>\n       <use xlink:href=\"#ArialMT-35\" x=\"83.398438\"/>\n      </g>\n     </g>\n    </g>\n    <g id=\"ytick_5\">\n     <g id=\"line2d_11\">\n      <path d=\"M 49.829531 47.106522 \nL 698.889531 47.106522 \n\" clip-path=\"url(#p853b1341d2)\" style=\"fill: none; stroke: #ffffff; stroke-width: 0.8; stroke-linecap: round\"/>\n     </g>\n     <g id=\"text_12\">\n      <!-- 1.0 -->\n      <g style=\"fill: #262626\" transform=\"translate(28.929531 50.685429) scale(0.1 -0.1)\">\n       <use xlink:href=\"#ArialMT-31\"/>\n       <use xlink:href=\"#ArialMT-2e\" x=\"55.615234\"/>\n       <use xlink:href=\"#ArialMT-30\" x=\"83.398438\"/>\n      </g>\n     </g>\n    </g>\n    <g id=\"text_13\">\n     <!-- $y$ -->\n     <g style=\"fill: #262626\" transform=\"translate(16.358906 101.3675) rotate(-90) scale(0.13 -0.13)\">\n      <defs>\n       <path id=\"DejaVuSans-Oblique-79\" d=\"M 1588 -325 \nQ 1188 -997 936 -1164 \nQ 684 -1331 294 -1331 \nL -159 -1331 \nL -63 -850 \nL 269 -850 \nQ 509 -850 678 -719 \nQ 847 -588 1056 -206 \nL 1234 128 \nL 459 3500 \nL 1069 3500 \nL 1650 819 \nL 3256 3500 \nL 3859 3500 \nL 1588 -325 \nz\n\" transform=\"scale(0.015625)\"/>\n      </defs>\n      <use xlink:href=\"#DejaVuSans-Oblique-79\" transform=\"translate(0 0.3125)\"/>\n     </g>\n    </g>\n   </g>\n   <g id=\"PolyCollection_1\">\n    <defs>\n     <path id=\"m817d30f00b\" d=\"M 49.829531 -426.504967 \nL 49.829531 -225.082088 \nL 58.600612 -225.296419 \nL 67.371693 -225.601572 \nL 76.142774 -226.030757 \nL 84.913856 -226.627785 \nL 93.684937 -227.449883 \nL 102.456018 -228.570646 \nL 111.227099 -230.082485 \nL 119.99818 -232.097573 \nL 128.769261 -234.745958 \nL 137.540342 -238.169497 \nL 146.311423 -242.510639 \nL 155.082504 -247.895851 \nL 163.853585 -254.414588 \nL 172.624666 -262.095856 \nL 181.395747 -270.885372 \nL 190.166829 -280.626905 \nL 198.93791 -291.051423 \nL 207.708991 -301.777192 \nL 216.480072 -312.322915 \nL 225.251153 -322.134577 \nL 234.022234 -330.624941 \nL 242.793315 -331.79865 \nL 251.564396 -318.171139 \nL 260.335477 -305.728164 \nL 269.106558 -295.022376 \nL 277.877639 -286.489017 \nL 286.64872 -280.399131 \nL 295.419802 -276.827964 \nL 304.190883 -275.643617 \nL 312.961964 -276.51883 \nL 321.733045 -278.966038 \nL 330.504126 -274.319902 \nL 339.275207 -265.248007 \nL 348.046288 -258.664666 \nL 356.817369 -255.039154 \nL 365.58845 -254.584596 \nL 374.359531 -257.239694 \nL 383.130612 -262.679072 \nL 391.901693 -270.351882 \nL 400.672774 -279.544902 \nL 409.443856 -289.463236 \nL 418.214937 -293.960967 \nL 426.986018 -296.503245 \nL 435.757099 -301.09726 \nL 444.52818 -307.891085 \nL 453.299261 -316.77713 \nL 462.070342 -327.389961 \nL 470.841423 -332.128046 \nL 479.612504 -333.518602 \nL 488.383585 -334.889202 \nL 497.154666 -336.803574 \nL 505.925747 -339.739059 \nL 514.696829 -344.028975 \nL 523.46791 -349.826847 \nL 532.238991 -357.095696 \nL 541.010072 -365.621893 \nL 549.781153 -375.049784 \nL 558.552234 -365.079959 \nL 567.323315 -352.923955 \nL 576.094396 -339.471005 \nL 584.865477 -325.397436 \nL 593.636558 -311.33197 \nL 602.407639 -297.813183 \nL 611.17872 -285.261634 \nL 619.949802 -273.967485 \nL 628.720883 -264.092491 \nL 637.491964 -255.683753 \nL 646.263045 -248.695579 \nL 655.034126 -243.015418 \nL 663.805207 -238.489991 \nL 672.576288 -234.948463 \nL 681.347369 -232.220592 \nL 690.11845 -230.149036 \nL 698.889531 -228.596132 \nL 698.889531 -429.345317 \nL 698.889531 -429.345317 \nL 690.11845 -430.328316 \nL 681.347369 -431.446623 \nL 672.576288 -432.642556 \nL 663.805207 -433.81817 \nL 655.034126 -434.830898 \nL 646.263045 -435.494677 \nL 637.491964 -435.588181 \nL 628.720883 -434.870825 \nL 619.949802 -433.105892 \nL 611.17872 -430.088806 \nL 602.407639 -425.677333 \nL 593.636558 -419.819644 \nL 584.865477 -412.575803 \nL 576.094396 -404.128463 \nL 567.323315 -394.779493 \nL 558.552234 -384.930813 \nL 549.781153 -375.26943 \nL 541.010072 -382.890808 \nL 532.238991 -387.47234 \nL 523.46791 -388.726996 \nL 514.696829 -386.593158 \nL 505.925747 -381.25472 \nL 497.154666 -373.13628 \nL 488.383585 -362.871939 \nL 479.612504 -351.249563 \nL 470.841423 -339.135794 \nL 462.070342 -330.14035 \nL 453.299261 -327.043852 \nL 444.52818 -322.466904 \nL 435.757099 -316.237494 \nL 426.986018 -308.419394 \nL 418.214937 -299.319291 \nL 409.443856 -293.100408 \nL 400.672774 -293.390412 \nL 391.901693 -294.218442 \nL 383.130612 -294.978573 \nL 374.359531 -295.156056 \nL 365.58845 -294.397419 \nL 356.817369 -292.557337 \nL 348.046288 -289.716875 \nL 339.275207 -286.17168 \nL 330.504126 -282.392779 \nL 321.733045 -285.198926 \nL 312.961964 -297.055635 \nL 304.190883 -308.989293 \nL 295.419802 -320.108739 \nL 286.64872 -329.608911 \nL 277.877639 -336.835503 \nL 269.106558 -341.331927 \nL 260.335477 -342.864954 \nL 251.564396 -341.427924 \nL 242.793315 -337.222854 \nL 234.022234 -345.996211 \nL 225.251153 -360.144976 \nL 216.480072 -373.674701 \nL 207.708991 -386.106894 \nL 198.93791 -397.084564 \nL 190.166829 -406.386886 \nL 181.395747 -413.929022 \nL 172.624666 -419.748976 \nL 163.853585 -423.984612 \nL 155.082504 -426.844688 \nL 146.311423 -428.577941 \nL 137.540342 -429.443974 \nL 128.769261 -429.688935 \nL 119.99818 -429.527965 \nL 111.227099 -429.135154 \nL 102.456018 -428.640559 \nL 93.684937 -428.132886 \nL 84.913856 -427.665902 \nL 76.142774 -427.266555 \nL 67.371693 -426.943139 \nL 58.600612 -426.69239 \nL 49.829531 -426.504967 \nz\n\" style=\"stroke: #ff0000; stroke-opacity: 0.15\"/>\n    </defs>\n    <g clip-path=\"url(#p853b1341d2)\">\n     <use xlink:href=\"#m817d30f00b\" x=\"0\" y=\"422.833594\" style=\"fill: #ff0000; fill-opacity: 0.15; stroke: #ff0000; stroke-opacity: 0.15\"/>\n    </g>\n   </g>\n   <g id=\"line2d_12\">\n    <path d=\"M 49.829531 97.468005 \nL 58.600612 90.683093 \nL 67.371693 84.021896 \nL 76.142774 77.605872 \nL 84.913856 71.552009 \nL 93.684937 65.970691 \nL 102.456018 60.963686 \nL 111.227099 56.622292 \nL 119.99818 53.025667 \nL 128.769261 50.239392 \nL 137.540342 48.31427 \nL 146.311423 47.285405 \nL 155.082504 47.171556 \nL 163.853585 47.974798 \nL 172.624666 49.680487 \nL 181.395747 52.25752 \nL 190.166829 55.658909 \nL 198.93791 59.822634 \nL 207.708991 64.672774 \nL 216.480072 70.120894 \nL 225.251153 76.067654 \nL 234.022234 82.404622 \nL 242.793315 89.016252 \nL 251.564396 95.781988 \nL 260.335477 102.578467 \nL 269.106558 109.281764 \nL 277.877639 115.769651 \nL 286.64872 121.923831 \nL 295.419802 127.63209 \nL 304.190883 132.790345 \nL 312.961964 137.304542 \nL 321.733045 141.092371 \nL 330.504126 144.084764 \nL 339.275207 146.22716 \nL 348.046288 147.480495 \nL 356.817369 147.821915 \nL 365.58845 147.245196 \nL 374.359531 145.760852 \nL 383.130612 143.39595 \nL 391.901693 140.19361 \nL 400.672774 136.212223 \nL 409.443856 131.524384 \nL 418.214937 126.215571 \nL 426.986018 120.382581 \nL 435.757099 114.131774 \nL 444.52818 107.577124 \nL 453.299261 100.838147 \nL 462.070342 94.03772 \nL 470.841423 87.299839 \nL 479.612504 80.747362 \nL 488.383585 74.499765 \nL 497.154666 68.670965 \nL 505.925747 63.367242 \nL 514.696829 58.685303 \nL 523.46791 54.710518 \nL 532.238991 51.515361 \nL 541.010072 49.158092 \nL 549.781153 47.681693 \nL 558.552234 47.113085 \nL 567.323315 47.462634 \nL 576.094396 48.723969 \nL 584.865477 50.874088 \nL 593.636558 53.873789 \nL 602.407639 57.668375 \nL 611.17872 62.188657 \nL 619.949802 67.352212 \nL 628.720883 73.064891 \nL 637.491964 79.22253 \nL 646.263045 85.712852 \nL 655.034126 92.417515 \nL 663.805207 99.214266 \nL 672.576288 105.979177 \nL 681.347369 112.588897 \nL 690.11845 118.922907 \nL 698.889531 124.865714 \n\" clip-path=\"url(#p853b1341d2)\" style=\"fill: none; stroke-dasharray: 5.55,2.4; stroke-dashoffset: 0; stroke: #0000ff; stroke-width: 1.5\"/>\n   </g>\n   <g id=\"line2d_13\">\n    <path d=\"M 49.829531 97.040066 \nL 58.600612 96.839189 \nL 67.371693 96.561238 \nL 76.142774 96.184938 \nL 84.913856 95.68675 \nL 93.684937 95.042209 \nL 102.456018 94.227991 \nL 111.227099 93.224774 \nL 119.99818 92.020825 \nL 128.769261 90.616148 \nL 137.540342 89.026858 \nL 146.311423 87.289304 \nL 155.082504 85.463324 \nL 163.853585 83.633994 \nL 172.624666 81.911178 \nL 181.395747 80.426396 \nL 190.166829 79.326698 \nL 198.93791 78.7656 \nL 207.708991 78.89155 \nL 216.480072 79.834786 \nL 225.251153 81.693817 \nL 234.022234 84.523018 \nL 242.793315 88.322842 \nL 251.564396 93.034062 \nL 260.335477 98.537035 \nL 269.106558 104.656442 \nL 277.877639 111.171334 \nL 286.64872 117.829573 \nL 295.419802 124.365242 \nL 304.190883 130.517139 \nL 312.961964 136.046361 \nL 321.733045 140.751112 \nL 330.504126 144.477253 \nL 339.275207 147.12375 \nL 348.046288 148.642823 \nL 356.817369 149.035348 \nL 365.58845 148.342587 \nL 374.359531 146.635719 \nL 383.130612 144.004771 \nL 391.901693 140.548432 \nL 400.672774 136.365937 \nL 409.443856 131.551772 \nL 418.214937 126.193464 \nL 426.986018 120.372274 \nL 435.757099 114.166217 \nL 444.52818 107.654599 \nL 453.299261 100.923103 \nL 462.070342 94.068438 \nL 470.841423 87.201674 \nL 479.612504 80.449511 \nL 488.383585 73.953023 \nL 497.154666 67.863667 \nL 505.925747 62.336704 \nL 514.696829 57.522527 \nL 523.46791 53.556672 \nL 532.238991 50.549576 \nL 541.010072 48.577243 \nL 549.781153 47.673987 \nL 558.552234 47.828208 \nL 567.323315 48.981869 \nL 576.094396 51.03386 \nL 584.865477 53.846974 \nL 593.636558 57.257787 \nL 602.407639 61.088336 \nL 611.17872 65.158373 \nL 619.949802 69.296905 \nL 628.720883 73.351936 \nL 637.491964 77.197627 \nL 646.263045 80.738466 \nL 655.034126 83.910435 \nL 663.805207 86.679513 \nL 672.576288 89.038084 \nL 681.347369 90.999986 \nL 690.11845 92.594918 \nL 698.889531 93.862869 \n\" clip-path=\"url(#p853b1341d2)\" style=\"fill: none; stroke: #ff0000; stroke-width: 2; stroke-linecap: round\"/>\n   </g>\n   <g id=\"line2d_14\">\n    <defs>\n     <path id=\"m683cad44ee\" d=\"M 0 3 \nC 0.795609 3 1.55874 2.683901 2.12132 2.12132 \nC 2.683901 1.55874 3 0.795609 3 0 \nC 3 -0.795609 2.683901 -1.55874 2.12132 -2.12132 \nC 1.55874 -2.683901 0.795609 -3 0 -3 \nC -0.795609 -3 -1.55874 -2.683901 -2.12132 -2.12132 \nC -2.683901 -1.55874 -3 -0.795609 -3 0 \nC -3 0.795609 -2.683901 1.55874 -2.12132 2.12132 \nC -1.55874 2.683901 -0.795609 3 0 3 \nz\n\" style=\"stroke: #000000\"/>\n    </defs>\n    <g clip-path=\"url(#p853b1341d2)\">\n     <use xlink:href=\"#m683cad44ee\" x=\"325.500937\" y=\"142.478835\" style=\"stroke: #000000\"/>\n     <use xlink:href=\"#m683cad44ee\" x=\"549.883908\" y=\"47.66974\" style=\"stroke: #000000\"/>\n     <use xlink:href=\"#m683cad44ee\" x=\"464.706324\" y=\"92.000563\" style=\"stroke: #000000\"/>\n     <use xlink:href=\"#m683cad44ee\" x=\"412.780697\" y=\"129.572882\" style=\"stroke: #000000\"/>\n     <use xlink:href=\"#m683cad44ee\" x=\"240.400807\" y=\"87.192355\" style=\"stroke: #000000\"/>\n    </g>\n   </g>\n   <g id=\"patch_3\">\n    <path d=\"M 49.829531 172.999375 \nL 49.829531 21.935625 \n\" style=\"fill: none; stroke: #ffffff; stroke-width: 0.8; stroke-linejoin: miter; stroke-linecap: square\"/>\n   </g>\n   <g id=\"patch_4\">\n    <path d=\"M 698.889531 172.999375 \nL 698.889531 21.935625 \n\" style=\"fill: none; stroke: #ffffff; stroke-width: 0.8; stroke-linejoin: miter; stroke-linecap: square\"/>\n   </g>\n   <g id=\"patch_5\">\n    <path d=\"M 49.829531 172.999375 \nL 698.889531 172.999375 \n\" style=\"fill: none; stroke: #ffffff; stroke-width: 0.8; stroke-linejoin: miter; stroke-linecap: square\"/>\n   </g>\n   <g id=\"patch_6\">\n    <path d=\"M 49.829531 21.935625 \nL 698.889531 21.935625 \n\" style=\"fill: none; stroke: #ffffff; stroke-width: 0.8; stroke-linejoin: miter; stroke-linecap: square\"/>\n   </g>\n   <g id=\"text_14\">\n    <!-- Distribution of posterior and prior data -->\n    <g style=\"fill: #262626\" transform=\"translate(273.981406 15.935625) scale(0.12 -0.12)\">\n     <defs>\n      <path id=\"ArialMT-44\" d=\"M 494 0 \nL 494 4581 \nL 2072 4581 \nQ 2606 4581 2888 4516 \nQ 3281 4425 3559 4188 \nQ 3922 3881 4101 3404 \nQ 4281 2928 4281 2316 \nQ 4281 1794 4159 1391 \nQ 4038 988 3847 723 \nQ 3656 459 3429 307 \nQ 3203 156 2883 78 \nQ 2563 0 2147 0 \nL 494 0 \nz\nM 1100 541 \nL 2078 541 \nQ 2531 541 2789 625 \nQ 3047 709 3200 863 \nQ 3416 1078 3536 1442 \nQ 3656 1806 3656 2325 \nQ 3656 3044 3420 3430 \nQ 3184 3816 2847 3947 \nQ 2603 4041 2063 4041 \nL 1100 4041 \nL 1100 541 \nz\n\" transform=\"scale(0.015625)\"/>\n      <path id=\"ArialMT-69\" d=\"M 425 3934 \nL 425 4581 \nL 988 4581 \nL 988 3934 \nL 425 3934 \nz\nM 425 0 \nL 425 3319 \nL 988 3319 \nL 988 0 \nL 425 0 \nz\n\" transform=\"scale(0.015625)\"/>\n      <path id=\"ArialMT-73\" d=\"M 197 991 \nL 753 1078 \nQ 800 744 1014 566 \nQ 1228 388 1613 388 \nQ 2000 388 2187 545 \nQ 2375 703 2375 916 \nQ 2375 1106 2209 1216 \nQ 2094 1291 1634 1406 \nQ 1016 1563 777 1677 \nQ 538 1791 414 1992 \nQ 291 2194 291 2438 \nQ 291 2659 392 2848 \nQ 494 3038 669 3163 \nQ 800 3259 1026 3326 \nQ 1253 3394 1513 3394 \nQ 1903 3394 2198 3281 \nQ 2494 3169 2634 2976 \nQ 2775 2784 2828 2463 \nL 2278 2388 \nQ 2241 2644 2061 2787 \nQ 1881 2931 1553 2931 \nQ 1166 2931 1000 2803 \nQ 834 2675 834 2503 \nQ 834 2394 903 2306 \nQ 972 2216 1119 2156 \nQ 1203 2125 1616 2013 \nQ 2213 1853 2448 1751 \nQ 2684 1650 2818 1456 \nQ 2953 1263 2953 975 \nQ 2953 694 2789 445 \nQ 2625 197 2315 61 \nQ 2006 -75 1616 -75 \nQ 969 -75 630 194 \nQ 291 463 197 991 \nz\n\" transform=\"scale(0.015625)\"/>\n      <path id=\"ArialMT-74\" d=\"M 1650 503 \nL 1731 6 \nQ 1494 -44 1306 -44 \nQ 1000 -44 831 53 \nQ 663 150 594 308 \nQ 525 466 525 972 \nL 525 2881 \nL 113 2881 \nL 113 3319 \nL 525 3319 \nL 525 4141 \nL 1084 4478 \nL 1084 3319 \nL 1650 3319 \nL 1650 2881 \nL 1084 2881 \nL 1084 941 \nQ 1084 700 1114 631 \nQ 1144 563 1211 522 \nQ 1278 481 1403 481 \nQ 1497 481 1650 503 \nz\n\" transform=\"scale(0.015625)\"/>\n      <path id=\"ArialMT-72\" d=\"M 416 0 \nL 416 3319 \nL 922 3319 \nL 922 2816 \nQ 1116 3169 1280 3281 \nQ 1444 3394 1641 3394 \nQ 1925 3394 2219 3213 \nL 2025 2691 \nQ 1819 2813 1613 2813 \nQ 1428 2813 1281 2702 \nQ 1134 2591 1072 2394 \nQ 978 2094 978 1738 \nL 978 0 \nL 416 0 \nz\n\" transform=\"scale(0.015625)\"/>\n      <path id=\"ArialMT-62\" d=\"M 941 0 \nL 419 0 \nL 419 4581 \nL 981 4581 \nL 981 2947 \nQ 1338 3394 1891 3394 \nQ 2197 3394 2470 3270 \nQ 2744 3147 2920 2923 \nQ 3097 2700 3197 2384 \nQ 3297 2069 3297 1709 \nQ 3297 856 2875 390 \nQ 2453 -75 1863 -75 \nQ 1275 -75 941 416 \nL 941 0 \nz\nM 934 1684 \nQ 934 1088 1097 822 \nQ 1363 388 1816 388 \nQ 2184 388 2453 708 \nQ 2722 1028 2722 1663 \nQ 2722 2313 2464 2622 \nQ 2206 2931 1841 2931 \nQ 1472 2931 1203 2611 \nQ 934 2291 934 1684 \nz\n\" transform=\"scale(0.015625)\"/>\n      <path id=\"ArialMT-75\" d=\"M 2597 0 \nL 2597 488 \nQ 2209 -75 1544 -75 \nQ 1250 -75 995 37 \nQ 741 150 617 320 \nQ 494 491 444 738 \nQ 409 903 409 1263 \nL 409 3319 \nL 972 3319 \nL 972 1478 \nQ 972 1038 1006 884 \nQ 1059 663 1231 536 \nQ 1403 409 1656 409 \nQ 1909 409 2131 539 \nQ 2353 669 2445 892 \nQ 2538 1116 2538 1541 \nL 2538 3319 \nL 3100 3319 \nL 3100 0 \nL 2597 0 \nz\n\" transform=\"scale(0.015625)\"/>\n      <path id=\"ArialMT-6f\" d=\"M 213 1659 \nQ 213 2581 725 3025 \nQ 1153 3394 1769 3394 \nQ 2453 3394 2887 2945 \nQ 3322 2497 3322 1706 \nQ 3322 1066 3130 698 \nQ 2938 331 2570 128 \nQ 2203 -75 1769 -75 \nQ 1072 -75 642 372 \nQ 213 819 213 1659 \nz\nM 791 1659 \nQ 791 1022 1069 705 \nQ 1347 388 1769 388 \nQ 2188 388 2466 706 \nQ 2744 1025 2744 1678 \nQ 2744 2294 2464 2611 \nQ 2184 2928 1769 2928 \nQ 1347 2928 1069 2612 \nQ 791 2297 791 1659 \nz\n\" transform=\"scale(0.015625)\"/>\n      <path id=\"ArialMT-6e\" d=\"M 422 0 \nL 422 3319 \nL 928 3319 \nL 928 2847 \nQ 1294 3394 1984 3394 \nQ 2284 3394 2536 3286 \nQ 2788 3178 2913 3003 \nQ 3038 2828 3088 2588 \nQ 3119 2431 3119 2041 \nL 3119 0 \nL 2556 0 \nL 2556 2019 \nQ 2556 2363 2490 2533 \nQ 2425 2703 2258 2804 \nQ 2091 2906 1866 2906 \nQ 1506 2906 1245 2678 \nQ 984 2450 984 1813 \nL 984 0 \nL 422 0 \nz\n\" transform=\"scale(0.015625)\"/>\n      <path id=\"ArialMT-20\" transform=\"scale(0.015625)\"/>\n      <path id=\"ArialMT-66\" d=\"M 556 0 \nL 556 2881 \nL 59 2881 \nL 59 3319 \nL 556 3319 \nL 556 3672 \nQ 556 4006 616 4169 \nQ 697 4388 901 4523 \nQ 1106 4659 1475 4659 \nQ 1713 4659 2000 4603 \nL 1916 4113 \nQ 1741 4144 1584 4144 \nQ 1328 4144 1222 4034 \nQ 1116 3925 1116 3625 \nL 1116 3319 \nL 1763 3319 \nL 1763 2881 \nL 1116 2881 \nL 1116 0 \nL 556 0 \nz\n\" transform=\"scale(0.015625)\"/>\n      <path id=\"ArialMT-70\" d=\"M 422 -1272 \nL 422 3319 \nL 934 3319 \nL 934 2888 \nQ 1116 3141 1344 3267 \nQ 1572 3394 1897 3394 \nQ 2322 3394 2647 3175 \nQ 2972 2956 3137 2557 \nQ 3303 2159 3303 1684 \nQ 3303 1175 3120 767 \nQ 2938 359 2589 142 \nQ 2241 -75 1856 -75 \nQ 1575 -75 1351 44 \nQ 1128 163 984 344 \nL 984 -1272 \nL 422 -1272 \nz\nM 931 1641 \nQ 931 1000 1190 694 \nQ 1450 388 1819 388 \nQ 2194 388 2461 705 \nQ 2728 1022 2728 1688 \nQ 2728 2322 2467 2637 \nQ 2206 2953 1844 2953 \nQ 1484 2953 1207 2617 \nQ 931 2281 931 1641 \nz\n\" transform=\"scale(0.015625)\"/>\n      <path id=\"ArialMT-65\" d=\"M 2694 1069 \nL 3275 997 \nQ 3138 488 2766 206 \nQ 2394 -75 1816 -75 \nQ 1088 -75 661 373 \nQ 234 822 234 1631 \nQ 234 2469 665 2931 \nQ 1097 3394 1784 3394 \nQ 2450 3394 2872 2941 \nQ 3294 2488 3294 1666 \nQ 3294 1616 3291 1516 \nL 816 1516 \nQ 847 969 1125 678 \nQ 1403 388 1819 388 \nQ 2128 388 2347 550 \nQ 2566 713 2694 1069 \nz\nM 847 1978 \nL 2700 1978 \nQ 2663 2397 2488 2606 \nQ 2219 2931 1791 2931 \nQ 1403 2931 1139 2672 \nQ 875 2413 847 1978 \nz\n\" transform=\"scale(0.015625)\"/>\n      <path id=\"ArialMT-61\" d=\"M 2588 409 \nQ 2275 144 1986 34 \nQ 1697 -75 1366 -75 \nQ 819 -75 525 192 \nQ 231 459 231 875 \nQ 231 1119 342 1320 \nQ 453 1522 633 1644 \nQ 813 1766 1038 1828 \nQ 1203 1872 1538 1913 \nQ 2219 1994 2541 2106 \nQ 2544 2222 2544 2253 \nQ 2544 2597 2384 2738 \nQ 2169 2928 1744 2928 \nQ 1347 2928 1158 2789 \nQ 969 2650 878 2297 \nL 328 2372 \nQ 403 2725 575 2942 \nQ 747 3159 1072 3276 \nQ 1397 3394 1825 3394 \nQ 2250 3394 2515 3294 \nQ 2781 3194 2906 3042 \nQ 3031 2891 3081 2659 \nQ 3109 2516 3109 2141 \nL 3109 1391 \nQ 3109 606 3145 398 \nQ 3181 191 3288 0 \nL 2700 0 \nQ 2613 175 2588 409 \nz\nM 2541 1666 \nQ 2234 1541 1622 1453 \nQ 1275 1403 1131 1340 \nQ 988 1278 909 1158 \nQ 831 1038 831 891 \nQ 831 666 1001 516 \nQ 1172 366 1500 366 \nQ 1825 366 2078 508 \nQ 2331 650 2450 897 \nQ 2541 1088 2541 1459 \nL 2541 1666 \nz\n\" transform=\"scale(0.015625)\"/>\n      <path id=\"ArialMT-64\" d=\"M 2575 0 \nL 2575 419 \nQ 2259 -75 1647 -75 \nQ 1250 -75 917 144 \nQ 584 363 401 755 \nQ 219 1147 219 1656 \nQ 219 2153 384 2558 \nQ 550 2963 881 3178 \nQ 1213 3394 1622 3394 \nQ 1922 3394 2156 3267 \nQ 2391 3141 2538 2938 \nL 2538 4581 \nL 3097 4581 \nL 3097 0 \nL 2575 0 \nz\nM 797 1656 \nQ 797 1019 1065 703 \nQ 1334 388 1700 388 \nQ 2069 388 2326 689 \nQ 2584 991 2584 1609 \nQ 2584 2291 2321 2609 \nQ 2059 2928 1675 2928 \nQ 1300 2928 1048 2622 \nQ 797 2316 797 1656 \nz\n\" transform=\"scale(0.015625)\"/>\n     </defs>\n     <use xlink:href=\"#ArialMT-44\"/>\n     <use xlink:href=\"#ArialMT-69\" x=\"72.216797\"/>\n     <use xlink:href=\"#ArialMT-73\" x=\"94.433594\"/>\n     <use xlink:href=\"#ArialMT-74\" x=\"144.433594\"/>\n     <use xlink:href=\"#ArialMT-72\" x=\"172.216797\"/>\n     <use xlink:href=\"#ArialMT-69\" x=\"205.517578\"/>\n     <use xlink:href=\"#ArialMT-62\" x=\"227.734375\"/>\n     <use xlink:href=\"#ArialMT-75\" x=\"283.349609\"/>\n     <use xlink:href=\"#ArialMT-74\" x=\"338.964844\"/>\n     <use xlink:href=\"#ArialMT-69\" x=\"366.748047\"/>\n     <use xlink:href=\"#ArialMT-6f\" x=\"388.964844\"/>\n     <use xlink:href=\"#ArialMT-6e\" x=\"444.580078\"/>\n     <use xlink:href=\"#ArialMT-20\" x=\"500.195312\"/>\n     <use xlink:href=\"#ArialMT-6f\" x=\"527.978516\"/>\n     <use xlink:href=\"#ArialMT-66\" x=\"583.59375\"/>\n     <use xlink:href=\"#ArialMT-20\" x=\"611.376953\"/>\n     <use xlink:href=\"#ArialMT-70\" x=\"639.160156\"/>\n     <use xlink:href=\"#ArialMT-6f\" x=\"694.775391\"/>\n     <use xlink:href=\"#ArialMT-73\" x=\"750.390625\"/>\n     <use xlink:href=\"#ArialMT-74\" x=\"800.390625\"/>\n     <use xlink:href=\"#ArialMT-65\" x=\"828.173828\"/>\n     <use xlink:href=\"#ArialMT-72\" x=\"883.789062\"/>\n     <use xlink:href=\"#ArialMT-69\" x=\"917.089844\"/>\n     <use xlink:href=\"#ArialMT-6f\" x=\"939.306641\"/>\n     <use xlink:href=\"#ArialMT-72\" x=\"994.921875\"/>\n     <use xlink:href=\"#ArialMT-20\" x=\"1028.222656\"/>\n     <use xlink:href=\"#ArialMT-61\" x=\"1056.005859\"/>\n     <use xlink:href=\"#ArialMT-6e\" x=\"1111.621094\"/>\n     <use xlink:href=\"#ArialMT-64\" x=\"1167.236328\"/>\n     <use xlink:href=\"#ArialMT-20\" x=\"1222.851562\"/>\n     <use xlink:href=\"#ArialMT-70\" x=\"1250.634766\"/>\n     <use xlink:href=\"#ArialMT-72\" x=\"1306.25\"/>\n     <use xlink:href=\"#ArialMT-69\" x=\"1339.550781\"/>\n     <use xlink:href=\"#ArialMT-6f\" x=\"1361.767578\"/>\n     <use xlink:href=\"#ArialMT-72\" x=\"1417.382812\"/>\n     <use xlink:href=\"#ArialMT-20\" x=\"1450.683594\"/>\n     <use xlink:href=\"#ArialMT-64\" x=\"1478.466797\"/>\n     <use xlink:href=\"#ArialMT-61\" x=\"1534.082031\"/>\n     <use xlink:href=\"#ArialMT-74\" x=\"1589.697266\"/>\n     <use xlink:href=\"#ArialMT-61\" x=\"1617.480469\"/>\n    </g>\n   </g>\n   <g id=\"legend_1\">\n    <g id=\"patch_7\">\n     <path d=\"M 56.829531 167.999375 \nL 123.129531 167.999375 \nQ 125.129531 167.999375 125.129531 165.999375 \nL 125.129531 106.89625 \nQ 125.129531 104.89625 123.129531 104.89625 \nL 56.829531 104.89625 \nQ 54.829531 104.89625 54.829531 106.89625 \nL 54.829531 165.999375 \nQ 54.829531 167.999375 56.829531 167.999375 \nz\n\" style=\"fill: #eaeaf2; opacity: 0.8; stroke: #cccccc; stroke-linejoin: miter\"/>\n    </g>\n    <g id=\"line2d_15\">\n     <path d=\"M 58.829531 112.554062 \nL 68.829531 112.554062 \nL 78.829531 112.554062 \n\" style=\"fill: none; stroke-dasharray: 5.55,2.4; stroke-dashoffset: 0; stroke: #0000ff; stroke-width: 1.5\"/>\n    </g>\n    <g id=\"text_15\">\n     <!-- $sin(x)$ -->\n     <g style=\"fill: #262626\" transform=\"translate(86.829531 116.054062) scale(0.1 -0.1)\">\n      <defs>\n       <path id=\"DejaVuSans-Oblique-73\" d=\"M 3200 3397 \nL 3091 2853 \nQ 2863 2978 2609 3040 \nQ 2356 3103 2088 3103 \nQ 1634 3103 1373 2948 \nQ 1113 2794 1113 2528 \nQ 1113 2219 1719 2053 \nQ 1766 2041 1788 2034 \nL 1972 1978 \nQ 2547 1819 2739 1644 \nQ 2931 1469 2931 1166 \nQ 2931 609 2489 259 \nQ 2047 -91 1331 -91 \nQ 1053 -91 747 -37 \nQ 441 16 72 128 \nL 184 722 \nQ 500 559 806 475 \nQ 1113 391 1394 391 \nQ 1816 391 2080 572 \nQ 2344 753 2344 1031 \nQ 2344 1331 1650 1516 \nL 1591 1531 \nL 1394 1581 \nQ 956 1697 753 1886 \nQ 550 2075 550 2369 \nQ 550 2928 970 3256 \nQ 1391 3584 2113 3584 \nQ 2397 3584 2667 3537 \nQ 2938 3491 3200 3397 \nz\n\" transform=\"scale(0.015625)\"/>\n       <path id=\"DejaVuSans-Oblique-69\" d=\"M 1172 4863 \nL 1747 4863 \nL 1606 4134 \nL 1031 4134 \nL 1172 4863 \nz\nM 909 3500 \nL 1484 3500 \nL 800 0 \nL 225 0 \nL 909 3500 \nz\n\" transform=\"scale(0.015625)\"/>\n       <path id=\"DejaVuSans-Oblique-6e\" d=\"M 3566 2113 \nL 3156 0 \nL 2578 0 \nL 2988 2091 \nQ 3016 2238 3031 2350 \nQ 3047 2463 3047 2528 \nQ 3047 2791 2881 2937 \nQ 2716 3084 2419 3084 \nQ 1956 3084 1622 2776 \nQ 1288 2469 1184 1941 \nL 800 0 \nL 225 0 \nL 903 3500 \nL 1478 3500 \nL 1363 2950 \nQ 1603 3253 1940 3418 \nQ 2278 3584 2650 3584 \nQ 3113 3584 3367 3334 \nQ 3622 3084 3622 2631 \nQ 3622 2519 3608 2391 \nQ 3594 2263 3566 2113 \nz\n\" transform=\"scale(0.015625)\"/>\n       <path id=\"DejaVuSans-28\" d=\"M 1984 4856 \nQ 1566 4138 1362 3434 \nQ 1159 2731 1159 2009 \nQ 1159 1288 1364 580 \nQ 1569 -128 1984 -844 \nL 1484 -844 \nQ 1016 -109 783 600 \nQ 550 1309 550 2009 \nQ 550 2706 781 3412 \nQ 1013 4119 1484 4856 \nL 1984 4856 \nz\n\" transform=\"scale(0.015625)\"/>\n       <path id=\"DejaVuSans-29\" d=\"M 513 4856 \nL 1013 4856 \nQ 1481 4119 1714 3412 \nQ 1947 2706 1947 2009 \nQ 1947 1309 1714 600 \nQ 1481 -109 1013 -844 \nL 513 -844 \nQ 928 -128 1133 580 \nQ 1338 1288 1338 2009 \nQ 1338 2731 1133 3434 \nQ 928 4138 513 4856 \nz\n\" transform=\"scale(0.015625)\"/>\n      </defs>\n      <use xlink:href=\"#DejaVuSans-Oblique-73\" transform=\"translate(0 0.015625)\"/>\n      <use xlink:href=\"#DejaVuSans-Oblique-69\" transform=\"translate(52.099609 0.015625)\"/>\n      <use xlink:href=\"#DejaVuSans-Oblique-6e\" transform=\"translate(79.882812 0.015625)\"/>\n      <use xlink:href=\"#DejaVuSans-28\" transform=\"translate(143.261719 0.015625)\"/>\n      <use xlink:href=\"#DejaVuSans-Oblique-78\" transform=\"translate(182.275391 0.015625)\"/>\n      <use xlink:href=\"#DejaVuSans-29\" transform=\"translate(241.455078 0.015625)\"/>\n     </g>\n    </g>\n    <g id=\"patch_8\">\n     <path d=\"M 58.829531 130.541562 \nL 78.829531 130.541562 \nL 78.829531 123.541562 \nL 58.829531 123.541562 \nz\n\" style=\"fill: #ff0000; fill-opacity: 0.15; stroke: #ff0000; stroke-opacity: 0.15; stroke-linejoin: miter\"/>\n    </g>\n    <g id=\"text_16\">\n     <!-- $2\\sigma_{2|1}$ -->\n     <g style=\"fill: #262626\" transform=\"translate(86.829531 130.541562) scale(0.1 -0.1)\">\n      <defs>\n       <path id=\"DejaVuSans-32\" d=\"M 1228 531 \nL 3431 531 \nL 3431 0 \nL 469 0 \nL 469 531 \nQ 828 903 1448 1529 \nQ 2069 2156 2228 2338 \nQ 2531 2678 2651 2914 \nQ 2772 3150 2772 3378 \nQ 2772 3750 2511 3984 \nQ 2250 4219 1831 4219 \nQ 1534 4219 1204 4116 \nQ 875 4013 500 3803 \nL 500 4441 \nQ 881 4594 1212 4672 \nQ 1544 4750 1819 4750 \nQ 2544 4750 2975 4387 \nQ 3406 4025 3406 3419 \nQ 3406 3131 3298 2873 \nQ 3191 2616 2906 2266 \nQ 2828 2175 2409 1742 \nQ 1991 1309 1228 531 \nz\n\" transform=\"scale(0.015625)\"/>\n       <path id=\"DejaVuSans-Oblique-3c3\" d=\"M 2219 3044 \nQ 1744 3044 1422 2700 \nQ 1081 2341 969 1747 \nQ 844 1119 1044 756 \nQ 1241 397 1706 397 \nQ 2166 397 2503 759 \nQ 2844 1122 2966 1747 \nQ 3075 2319 2881 2700 \nQ 2700 3044 2219 3044 \nz\nM 2309 3503 \nL 4219 3500 \nL 4106 2925 \nL 3463 2925 \nQ 3706 2438 3575 1747 \nQ 3406 888 2884 400 \nQ 2359 -91 1609 -91 \nQ 856 -91 525 400 \nQ 194 888 363 1747 \nQ 528 2609 1050 3097 \nQ 1484 3503 2309 3503 \nz\n\" transform=\"scale(0.015625)\"/>\n       <path id=\"DejaVuSans-7c\" d=\"M 1344 4891 \nL 1344 -1509 \nL 813 -1509 \nL 813 4891 \nL 1344 4891 \nz\n\" transform=\"scale(0.015625)\"/>\n       <path id=\"DejaVuSans-31\" d=\"M 794 531 \nL 1825 531 \nL 1825 4091 \nL 703 3866 \nL 703 4441 \nL 1819 4666 \nL 2450 4666 \nL 2450 531 \nL 3481 531 \nL 3481 0 \nL 794 0 \nL 794 531 \nz\n\" transform=\"scale(0.015625)\"/>\n      </defs>\n      <use xlink:href=\"#DejaVuSans-32\" transform=\"translate(0 0.78125)\"/>\n      <use xlink:href=\"#DejaVuSans-Oblique-3c3\" transform=\"translate(63.623047 0.78125)\"/>\n      <use xlink:href=\"#DejaVuSans-32\" transform=\"translate(127.001953 -15.625) scale(0.7)\"/>\n      <use xlink:href=\"#DejaVuSans-7c\" transform=\"translate(171.538086 -15.625) scale(0.7)\"/>\n      <use xlink:href=\"#DejaVuSans-31\" transform=\"translate(195.12207 -15.625) scale(0.7)\"/>\n     </g>\n    </g>\n    <g id=\"line2d_16\">\n     <path d=\"M 58.829531 142.499375 \nL 68.829531 142.499375 \nL 78.829531 142.499375 \n\" style=\"fill: none; stroke: #ff0000; stroke-width: 2; stroke-linecap: round\"/>\n    </g>\n    <g id=\"text_17\">\n     <!-- $\\mu_{2|1}$ -->\n     <g style=\"fill: #262626\" transform=\"translate(86.829531 145.999375) scale(0.1 -0.1)\">\n      <defs>\n       <path id=\"DejaVuSans-Oblique-3bc\" d=\"M -84 -1331 \nL 856 3500 \nL 1434 3500 \nL 1009 1322 \nQ 997 1256 987 1175 \nQ 978 1094 978 1013 \nQ 978 722 1161 565 \nQ 1344 409 1684 409 \nQ 2147 409 2431 671 \nQ 2716 934 2816 1459 \nL 3213 3500 \nL 3788 3500 \nL 3266 809 \nQ 3253 750 3248 706 \nQ 3244 663 3244 628 \nQ 3244 531 3283 486 \nQ 3322 441 3406 441 \nQ 3438 441 3492 456 \nQ 3547 472 3647 513 \nL 3559 50 \nQ 3422 -19 3297 -55 \nQ 3172 -91 3053 -91 \nQ 2847 -91 2730 40 \nQ 2613 172 2613 403 \nQ 2438 153 2195 31 \nQ 1953 -91 1625 -91 \nQ 1334 -91 1117 43 \nQ 900 178 831 397 \nL 494 -1331 \nL -84 -1331 \nz\n\" transform=\"scale(0.015625)\"/>\n      </defs>\n      <use xlink:href=\"#DejaVuSans-Oblique-3bc\" transform=\"translate(0 0.3125)\"/>\n      <use xlink:href=\"#DejaVuSans-32\" transform=\"translate(63.623047 -16.09375) scale(0.7)\"/>\n      <use xlink:href=\"#DejaVuSans-7c\" transform=\"translate(108.15918 -16.09375) scale(0.7)\"/>\n      <use xlink:href=\"#DejaVuSans-31\" transform=\"translate(131.743164 -16.09375) scale(0.7)\"/>\n     </g>\n    </g>\n    <g id=\"line2d_17\">\n     <g>\n      <use xlink:href=\"#m683cad44ee\" x=\"68.829531\" y=\"158.399375\" style=\"stroke: #000000\"/>\n     </g>\n    </g>\n    <g id=\"text_18\">\n     <!-- $(x_1, y_1)$ -->\n     <g style=\"fill: #262626\" transform=\"translate(86.829531 161.899375) scale(0.1 -0.1)\">\n      <defs>\n       <path id=\"DejaVuSans-2c\" d=\"M 750 794 \nL 1409 794 \nL 1409 256 \nL 897 -744 \nL 494 -744 \nL 750 256 \nL 750 794 \nz\n\" transform=\"scale(0.015625)\"/>\n      </defs>\n      <use xlink:href=\"#DejaVuSans-28\" transform=\"translate(0 0.125)\"/>\n      <use xlink:href=\"#DejaVuSans-Oblique-78\" transform=\"translate(39.013672 0.125)\"/>\n      <use xlink:href=\"#DejaVuSans-31\" transform=\"translate(98.193359 -16.28125) scale(0.7)\"/>\n      <use xlink:href=\"#DejaVuSans-2c\" transform=\"translate(145.463867 0.125)\"/>\n      <use xlink:href=\"#DejaVuSans-Oblique-79\" transform=\"translate(196.733398 0.125)\"/>\n      <use xlink:href=\"#DejaVuSans-31\" transform=\"translate(255.913086 -16.28125) scale(0.7)\"/>\n      <use xlink:href=\"#DejaVuSans-29\" transform=\"translate(303.183594 0.125)\"/>\n     </g>\n    </g>\n   </g>\n  </g>\n  <g id=\"axes_2\">\n   <g id=\"patch_9\">\n    <path d=\"M 49.829531 383.599375 \nL 698.889531 383.599375 \nL 698.889531 232.535625 \nL 49.829531 232.535625 \nz\n\" style=\"fill: #eaeaf2\"/>\n   </g>\n   <g id=\"matplotlib.axis_3\">\n    <g id=\"xtick_7\">\n     <g id=\"line2d_18\">\n      <path d=\"M 49.829531 383.599375 \nL 49.829531 232.535625 \n\" clip-path=\"url(#pd9a494dfb6)\" style=\"fill: none; stroke: #ffffff; stroke-width: 0.8; stroke-linecap: round\"/>\n     </g>\n     <g id=\"text_19\">\n      <!-- 0 -->\n      <g style=\"fill: #262626\" transform=\"translate(47.049063 397.757188) scale(0.1 -0.1)\">\n       <use xlink:href=\"#ArialMT-30\"/>\n      </g>\n     </g>\n    </g>\n    <g id=\"xtick_8\">\n     <g id=\"line2d_19\">\n      <path d=\"M 179.641531 383.599375 \nL 179.641531 232.535625 \n\" clip-path=\"url(#pd9a494dfb6)\" style=\"fill: none; stroke: #ffffff; stroke-width: 0.8; stroke-linecap: round\"/>\n     </g>\n     <g id=\"text_20\">\n      <!-- 2 -->\n      <g style=\"fill: #262626\" transform=\"translate(176.861062 397.757188) scale(0.1 -0.1)\">\n       <use xlink:href=\"#ArialMT-32\"/>\n      </g>\n     </g>\n    </g>\n    <g id=\"xtick_9\">\n     <g id=\"line2d_20\">\n      <path d=\"M 309.453531 383.599375 \nL 309.453531 232.535625 \n\" clip-path=\"url(#pd9a494dfb6)\" style=\"fill: none; stroke: #ffffff; stroke-width: 0.8; stroke-linecap: round\"/>\n     </g>\n     <g id=\"text_21\">\n      <!-- 4 -->\n      <g style=\"fill: #262626\" transform=\"translate(306.673062 397.757188) scale(0.1 -0.1)\">\n       <use xlink:href=\"#ArialMT-34\"/>\n      </g>\n     </g>\n    </g>\n    <g id=\"xtick_10\">\n     <g id=\"line2d_21\">\n      <path d=\"M 439.265531 383.599375 \nL 439.265531 232.535625 \n\" clip-path=\"url(#pd9a494dfb6)\" style=\"fill: none; stroke: #ffffff; stroke-width: 0.8; stroke-linecap: round\"/>\n     </g>\n     <g id=\"text_22\">\n      <!-- 6 -->\n      <g style=\"fill: #262626\" transform=\"translate(436.485062 397.757188) scale(0.1 -0.1)\">\n       <use xlink:href=\"#ArialMT-36\"/>\n      </g>\n     </g>\n    </g>\n    <g id=\"xtick_11\">\n     <g id=\"line2d_22\">\n      <path d=\"M 569.077531 383.599375 \nL 569.077531 232.535625 \n\" clip-path=\"url(#pd9a494dfb6)\" style=\"fill: none; stroke: #ffffff; stroke-width: 0.8; stroke-linecap: round\"/>\n     </g>\n     <g id=\"text_23\">\n      <!-- 8 -->\n      <g style=\"fill: #262626\" transform=\"translate(566.297063 397.757188) scale(0.1 -0.1)\">\n       <use xlink:href=\"#ArialMT-38\"/>\n      </g>\n     </g>\n    </g>\n    <g id=\"xtick_12\">\n     <g id=\"line2d_23\">\n      <path d=\"M 698.889531 383.599375 \nL 698.889531 232.535625 \n\" clip-path=\"url(#pd9a494dfb6)\" style=\"fill: none; stroke: #ffffff; stroke-width: 0.8; stroke-linecap: round\"/>\n     </g>\n     <g id=\"text_24\">\n      <!-- 10 -->\n      <g style=\"fill: #262626\" transform=\"translate(693.328594 397.757188) scale(0.1 -0.1)\">\n       <use xlink:href=\"#ArialMT-31\"/>\n       <use xlink:href=\"#ArialMT-30\" x=\"55.615234\"/>\n      </g>\n     </g>\n    </g>\n    <g id=\"text_25\">\n     <!-- $x$ -->\n     <g style=\"fill: #262626\" transform=\"translate(370.459531 413.049844) scale(0.13 -0.13)\">\n      <use xlink:href=\"#DejaVuSans-Oblique-78\" transform=\"translate(0 0.3125)\"/>\n     </g>\n    </g>\n   </g>\n   <g id=\"matplotlib.axis_4\">\n    <g id=\"ytick_6\">\n     <g id=\"line2d_24\">\n      <path d=\"M 49.829531 358.429487 \nL 698.889531 358.429487 \n\" clip-path=\"url(#pd9a494dfb6)\" style=\"fill: none; stroke: #ffffff; stroke-width: 0.8; stroke-linecap: round\"/>\n     </g>\n     <g id=\"text_26\">\n      <!-- −1.0 -->\n      <g style=\"fill: #262626\" transform=\"translate(23.088906 362.008393) scale(0.1 -0.1)\">\n       <use xlink:href=\"#ArialMT-2212\"/>\n       <use xlink:href=\"#ArialMT-31\" x=\"58.398438\"/>\n       <use xlink:href=\"#ArialMT-2e\" x=\"114.013672\"/>\n       <use xlink:href=\"#ArialMT-30\" x=\"141.796875\"/>\n      </g>\n     </g>\n    </g>\n    <g id=\"ytick_7\">\n     <g id=\"line2d_25\">\n      <path d=\"M 49.829531 333.248746 \nL 698.889531 333.248746 \n\" clip-path=\"url(#pd9a494dfb6)\" style=\"fill: none; stroke: #ffffff; stroke-width: 0.8; stroke-linecap: round\"/>\n     </g>\n     <g id=\"text_27\">\n      <!-- −0.5 -->\n      <g style=\"fill: #262626\" transform=\"translate(23.088906 336.827652) scale(0.1 -0.1)\">\n       <use xlink:href=\"#ArialMT-2212\"/>\n       <use xlink:href=\"#ArialMT-30\" x=\"58.398438\"/>\n       <use xlink:href=\"#ArialMT-2e\" x=\"114.013672\"/>\n       <use xlink:href=\"#ArialMT-35\" x=\"141.796875\"/>\n      </g>\n     </g>\n    </g>\n    <g id=\"ytick_8\">\n     <g id=\"line2d_26\">\n      <path d=\"M 49.829531 308.068005 \nL 698.889531 308.068005 \n\" clip-path=\"url(#pd9a494dfb6)\" style=\"fill: none; stroke: #ffffff; stroke-width: 0.8; stroke-linecap: round\"/>\n     </g>\n     <g id=\"text_28\">\n      <!-- 0.0 -->\n      <g style=\"fill: #262626\" transform=\"translate(28.929531 311.646911) scale(0.1 -0.1)\">\n       <use xlink:href=\"#ArialMT-30\"/>\n       <use xlink:href=\"#ArialMT-2e\" x=\"55.615234\"/>\n       <use xlink:href=\"#ArialMT-30\" x=\"83.398438\"/>\n      </g>\n     </g>\n    </g>\n    <g id=\"ytick_9\">\n     <g id=\"line2d_27\">\n      <path d=\"M 49.829531 282.887263 \nL 698.889531 282.887263 \n\" clip-path=\"url(#pd9a494dfb6)\" style=\"fill: none; stroke: #ffffff; stroke-width: 0.8; stroke-linecap: round\"/>\n     </g>\n     <g id=\"text_29\">\n      <!-- 0.5 -->\n      <g style=\"fill: #262626\" transform=\"translate(28.929531 286.46617) scale(0.1 -0.1)\">\n       <use xlink:href=\"#ArialMT-30\"/>\n       <use xlink:href=\"#ArialMT-2e\" x=\"55.615234\"/>\n       <use xlink:href=\"#ArialMT-35\" x=\"83.398438\"/>\n      </g>\n     </g>\n    </g>\n    <g id=\"ytick_10\">\n     <g id=\"line2d_28\">\n      <path d=\"M 49.829531 257.706522 \nL 698.889531 257.706522 \n\" clip-path=\"url(#pd9a494dfb6)\" style=\"fill: none; stroke: #ffffff; stroke-width: 0.8; stroke-linecap: round\"/>\n     </g>\n     <g id=\"text_30\">\n      <!-- 1.0 -->\n      <g style=\"fill: #262626\" transform=\"translate(28.929531 261.285429) scale(0.1 -0.1)\">\n       <use xlink:href=\"#ArialMT-31\"/>\n       <use xlink:href=\"#ArialMT-2e\" x=\"55.615234\"/>\n       <use xlink:href=\"#ArialMT-30\" x=\"83.398438\"/>\n      </g>\n     </g>\n    </g>\n    <g id=\"text_31\">\n     <!-- $y$ -->\n     <g style=\"fill: #262626\" transform=\"translate(16.358906 311.9675) rotate(-90) scale(0.13 -0.13)\">\n      <use xlink:href=\"#DejaVuSans-Oblique-79\" transform=\"translate(0 0.3125)\"/>\n     </g>\n    </g>\n   </g>\n   <g id=\"line2d_29\">\n    <path d=\"M 49.829531 366.531058 \nL 58.600612 355.479993 \nL 67.371693 343.707262 \nL 76.142774 332.166941 \nL 84.913856 321.801336 \nL 93.684937 313.377217 \nL 102.456018 307.34658 \nL 111.227099 303.76662 \nL 119.99818 302.299845 \nL 128.769261 302.295616 \nL 137.540342 302.934547 \nL 146.311423 303.402549 \nL 155.082504 303.056045 \nL 163.853585 301.544455 \nL 172.624666 298.868007 \nL 181.395747 295.364868 \nL 190.166829 291.635886 \nL 198.93791 288.425568 \nL 207.708991 286.482995 \nL 216.480072 286.426379 \nL 225.251153 288.632513 \nL 234.022234 293.167867 \nL 242.793315 299.77238 \nL 251.564396 307.899828 \nL 260.335477 316.809154 \nL 269.106558 325.691216 \nL 277.877639 333.80639 \nL 286.64872 340.604228 \nL 295.419802 345.798897 \nL 304.190883 349.384334 \nL 312.961964 351.588042 \nL 321.733045 352.778388 \nL 330.504126 353.351742 \nL 339.275207 353.629223 \nL 348.046288 353.787773 \nL 356.817369 353.838192 \nL 365.58845 353.648864 \nL 374.359531 353.001756 \nL 383.130612 351.661205 \nL 391.901693 349.43608 \nL 400.672774 346.221732 \nL 409.443856 342.016223 \nL 418.214937 336.913075 \nL 426.986018 331.077882 \nL 435.757099 324.717703 \nL 444.52818 318.050674 \nL 453.299261 311.280836 \nL 462.070342 304.580167 \nL 470.841423 298.078519 \nL 479.612504 291.86143 \nL 488.383585 285.975973 \nL 497.154666 280.444635 \nL 505.925747 275.285985 \nL 514.696829 270.539331 \nL 523.46791 266.288458 \nL 532.238991 262.678564 \nL 541.010072 259.920855 \nL 549.781153 258.281165 \nL 558.552234 258.052367 \nL 567.323315 259.513725 \nL 576.094396 262.883597 \nL 584.865477 268.273566 \nL 593.636558 275.652055 \nL 602.407639 284.823866 \nL 611.17872 295.428854 \nL 619.949802 306.959349 \nL 628.720883 318.79244 \nL 637.491964 330.231243 \nL 646.263045 340.549017 \nL 655.034126 349.031904 \nL 663.805207 355.018742 \nL 672.576288 357.93964 \nL 681.347369 357.356051 \nL 690.11845 353.004232 \nL 698.889531 344.840562 \n\" clip-path=\"url(#pd9a494dfb6)\" style=\"fill: none; stroke: #1f77b4; stroke-width: 1.5; stroke-linecap: round\"/>\n   </g>\n   <g id=\"line2d_30\">\n    <path d=\"M 49.829531 330.790374 \nL 58.600612 335.364152 \nL 67.371693 339.954943 \nL 76.142774 344.284775 \nL 84.913856 347.98393 \nL 93.684937 350.635495 \nL 102.456018 351.829407 \nL 111.227099 351.218813 \nL 119.99818 348.571995 \nL 128.769261 343.814686 \nL 137.540342 337.059469 \nL 146.311423 328.61969 \nL 155.082504 319.005316 \nL 163.853585 308.8973 \nL 172.624666 299.097358 \nL 181.395747 290.452218 \nL 190.166829 283.75682 \nL 198.93791 279.648186 \nL 207.708991 278.508547 \nL 216.480072 280.399503 \nL 225.251153 285.046193 \nL 234.022234 291.880551 \nL 242.793315 300.138593 \nL 251.564396 308.991824 \nL 260.335477 317.683155 \nL 269.106558 325.636002 \nL 277.877639 332.513199 \nL 286.64872 338.216712 \nL 295.419802 342.835777 \nL 304.190883 346.563907 \nL 312.961964 349.611131 \nL 321.733045 352.134916 \nL 330.504126 354.204015 \nL 339.275207 355.797184 \nL 348.046288 356.828562 \nL 356.817369 357.185343 \nL 365.58845 356.763899 \nL 374.359531 355.494783 \nL 383.130612 353.353546 \nL 391.901693 350.359653 \nL 400.672774 346.568117 \nL 409.443856 342.058239 \nL 418.214937 336.921938 \nL 426.986018 331.252685 \nL 435.757099 325.135967 \nL 444.52818 318.643495 \nL 453.299261 311.834296 \nL 462.070342 304.765399 \nL 470.841423 297.511779 \nL 479.612504 290.190944 \nL 488.383585 282.983465 \nL 497.154666 276.139622 \nL 505.925747 269.964939 \nL 514.696829 264.783694 \nL 523.46791 260.886896 \nL 532.238991 258.477373 \nL 541.010072 257.626539 \nL 549.781153 258.254385 \nL 558.552234 260.137627 \nL 567.323315 262.943007 \nL 576.094396 266.276404 \nL 584.865477 269.736329 \nL 593.636558 272.961877 \nL 602.407639 275.669918 \nL 611.17872 277.68049 \nL 619.949802 278.932046 \nL 628.720883 279.487359 \nL 637.491964 279.528694 \nL 646.263045 279.338389 \nL 655.034126 279.261546 \nL 663.805207 279.651199 \nL 672.576288 280.802703 \nL 681.347369 282.89014 \nL 690.11845 285.920757 \nL 698.889531 289.721249 \n\" clip-path=\"url(#pd9a494dfb6)\" style=\"fill: none; stroke: #ff7f0e; stroke-width: 1.5; stroke-linecap: round\"/>\n   </g>\n   <g id=\"line2d_31\">\n    <path d=\"M 49.829531 327.912038 \nL 58.600612 327.454637 \nL 67.371693 327.22651 \nL 76.142774 327.437032 \nL 84.913856 328.207854 \nL 93.684937 329.53624 \nL 102.456018 331.276128 \nL 111.227099 333.141796 \nL 119.99818 334.738151 \nL 128.769261 335.617818 \nL 137.540342 335.359179 \nL 146.311423 333.652413 \nL 155.082504 330.375148 \nL 163.853585 325.638797 \nL 172.624666 319.791846 \nL 181.395747 313.376633 \nL 190.166829 307.047909 \nL 198.93791 301.471561 \nL 207.708991 297.225933 \nL 216.480072 294.726281 \nL 225.251153 294.185049 \nL 234.022234 295.610349 \nL 242.793315 298.835732 \nL 251.564396 303.568254 \nL 260.335477 309.440767 \nL 269.106558 316.057354 \nL 277.877639 323.026214 \nL 286.64872 329.979884 \nL 295.419802 336.586474 \nL 304.190883 342.557017 \nL 312.961964 347.65297 \nL 321.733045 351.695513 \nL 330.504126 354.575564 \nL 339.275207 356.261535 \nL 348.046288 356.801018 \nL 356.817369 356.313506 \nL 365.58845 354.972568 \nL 374.359531 352.978491 \nL 383.130612 350.524278 \nL 391.901693 347.759845 \nL 400.672774 344.760072 \nL 409.443856 341.502772 \nL 418.214937 337.861845 \nL 426.986018 333.62 \nL 435.757099 328.503196 \nL 444.52818 322.236034 \nL 453.299261 314.613041 \nL 462.070342 305.575876 \nL 470.841423 295.281787 \nL 479.612504 284.146105 \nL 488.383585 272.842766 \nL 497.154666 262.252846 \nL 505.925747 253.361378 \nL 514.696829 247.115417 \nL 523.46791 244.267633 \nL 532.238991 245.236903 \nL 541.010072 250.017125 \nL 549.781153 258.157471 \nL 558.552234 268.822782 \nL 567.323315 280.92517 \nL 576.094396 293.301352 \nL 584.865477 304.899234 \nL 593.636558 314.934782 \nL 602.407639 322.986804 \nL 611.17872 329.012265 \nL 619.949802 333.283651 \nL 628.720883 336.268476 \nL 637.491964 338.484361 \nL 646.263045 340.36733 \nL 655.034126 342.18515 \nL 663.805207 344.013129 \nL 672.576288 345.770894 \nL 681.347369 347.300969 \nL 690.11845 348.45879 \nL 698.889531 349.182744 \n\" clip-path=\"url(#pd9a494dfb6)\" style=\"fill: none; stroke: #2ca02c; stroke-width: 1.5; stroke-linecap: round\"/>\n   </g>\n   <g id=\"line2d_32\">\n    <path d=\"M 49.829531 293.983954 \nL 58.600612 293.1547 \nL 67.371693 293.140384 \nL 76.142774 293.511748 \nL 84.913856 293.825642 \nL 93.684937 293.699319 \nL 102.456018 292.874273 \nL 111.227099 291.25827 \nL 119.99818 288.939064 \nL 128.769261 286.168195 \nL 137.540342 283.317993 \nL 146.311423 280.818068 \nL 155.082504 279.080457 \nL 163.853585 278.424445 \nL 172.624666 279.013588 \nL 181.395747 280.817132 \nL 190.166829 283.605642 \nL 198.93791 286.985424 \nL 207.708991 290.469077 \nL 216.480072 293.57159 \nL 225.251153 295.91506 \nL 234.022234 297.321517 \nL 242.793315 297.874005 \nL 251.564396 297.930645 \nL 260.335477 298.084327 \nL 269.106558 299.070154 \nL 277.877639 301.633274 \nL 286.64872 306.378134 \nL 295.419802 313.626381 \nL 304.190883 323.311828 \nL 312.961964 334.936878 \nL 321.733045 347.605038 \nL 330.504126 360.130476 \nL 339.275207 371.209567 \nL 348.046288 379.625697 \nL 356.817369 384.449316 \nL 365.58845 385.194031 \nL 374.359531 381.896629 \nL 383.130612 375.103232 \nL 391.901693 365.76307 \nL 400.672774 355.050552 \nL 409.443856 344.151552 \nL 418.214937 334.057469 \nL 426.986018 325.408554 \nL 435.757099 318.416659 \nL 444.52818 312.879972 \nL 453.299261 308.282196 \nL 462.070342 303.950891 \nL 470.841423 299.238714 \nL 479.612504 293.688485 \nL 488.383585 287.149231 \nL 497.154666 279.823086 \nL 505.925747 272.238896 \nL 514.696829 265.163492 \nL 523.46791 259.472723 \nL 532.238991 256.009163 \nL 541.010072 255.451847 \nL 549.781153 258.216947 \nL 558.552234 264.399511 \nL 567.323315 273.758135 \nL 576.094396 285.738783 \nL 584.865477 299.531466 \nL 593.636558 314.153302 \nL 602.407639 328.551401 \nL 611.17872 341.717614 \nL 619.949802 352.803442 \nL 628.720883 361.219059 \nL 637.491964 366.697678 \nL 646.263045 369.308955 \nL 655.034126 369.413627 \nL 663.805207 367.565345 \nL 672.576288 364.38036 \nL 681.347369 360.405944 \nL 690.11845 356.020045 \nL 698.889531 351.385591 \n\" clip-path=\"url(#pd9a494dfb6)\" style=\"fill: none; stroke: #d62728; stroke-width: 1.5; stroke-linecap: round\"/>\n   </g>\n   <g id=\"line2d_33\">\n    <path d=\"M 49.829531 373.909252 \nL 58.600612 377.069272 \nL 67.371693 379.928589 \nL 76.142774 382.28326 \nL 84.913856 383.911643 \nL 93.684937 384.575933 \nL 102.456018 384.028921 \nL 111.227099 382.032781 \nL 119.99818 378.393331 \nL 128.769261 373.006436 \nL 137.540342 365.906361 \nL 146.311423 357.301356 \nL 155.082504 347.582298 \nL 163.853585 337.295909 \nL 172.624666 327.083446 \nL 181.395747 317.596107 \nL 190.166829 309.405863 \nL 198.93791 302.932716 \nL 207.708991 298.40511 \nL 216.480072 295.861058 \nL 225.251153 295.185684 \nL 234.022234 296.170649 \nL 242.793315 298.575795 \nL 251.564396 302.17474 \nL 260.335477 306.773699 \nL 269.106558 312.203877 \nL 277.877639 318.297246 \nL 286.64872 324.860766 \nL 295.419802 331.662502 \nL 304.190883 338.436056 \nL 312.961964 344.900748 \nL 321.733045 350.787633 \nL 330.504126 355.860029 \nL 339.275207 359.920774 \nL 348.046288 362.806434 \nL 356.817369 364.376254 \nL 365.58845 364.507198 \nL 374.359531 363.104432 \nL 383.130612 360.12916 \nL 391.901693 355.636242 \nL 400.672774 349.806714 \nL 409.443856 342.958422 \nL 418.214937 335.522765 \nL 426.986018 327.986099 \nL 435.757099 320.806665 \nL 444.52818 314.327698 \nL 453.299261 308.711233 \nL 462.070342 303.912871 \nL 470.841423 299.706738 \nL 479.612504 295.755569 \nL 488.383585 291.707627 \nL 497.154666 287.294667 \nL 505.925747 282.405431 \nL 514.696829 277.117217 \nL 523.46791 271.680464 \nL 532.238991 266.464363 \nL 541.010072 261.880477 \nL 549.781153 258.30444 \nL 558.552234 256.01213 \nL 567.323315 255.13988 \nL 576.094396 255.669871 \nL 584.865477 257.436765 \nL 593.636558 260.149753 \nL 602.407639 263.425854 \nL 611.17872 266.833111 \nL 619.949802 269.943247 \nL 628.720883 272.391514 \nL 637.491964 273.936544 \nL 646.263045 274.507825 \nL 655.034126 274.226145 \nL 663.805207 273.385514 \nL 672.576288 272.394308 \nL 681.347369 271.685968 \nL 690.11845 271.621468 \nL 698.889531 272.411205 \n\" clip-path=\"url(#pd9a494dfb6)\" style=\"fill: none; stroke: #9467bd; stroke-width: 1.5; stroke-linecap: round\"/>\n   </g>\n   <g id=\"patch_10\">\n    <path d=\"M 49.829531 383.599375 \nL 49.829531 232.535625 \n\" style=\"fill: none; stroke: #ffffff; stroke-width: 0.8; stroke-linejoin: miter; stroke-linecap: square\"/>\n   </g>\n   <g id=\"patch_11\">\n    <path d=\"M 698.889531 383.599375 \nL 698.889531 232.535625 \n\" style=\"fill: none; stroke: #ffffff; stroke-width: 0.8; stroke-linejoin: miter; stroke-linecap: square\"/>\n   </g>\n   <g id=\"patch_12\">\n    <path d=\"M 49.829531 383.599375 \nL 698.889531 383.599375 \n\" style=\"fill: none; stroke: #ffffff; stroke-width: 0.8; stroke-linejoin: miter; stroke-linecap: square\"/>\n   </g>\n   <g id=\"patch_13\">\n    <path d=\"M 49.829531 232.535625 \nL 698.889531 232.535625 \n\" style=\"fill: none; stroke: #ffffff; stroke-width: 0.8; stroke-linejoin: miter; stroke-linecap: square\"/>\n   </g>\n   <g id=\"text_32\">\n    <!-- 5 different function realizations from posterior -->\n    <g style=\"fill: #262626\" transform=\"translate(254.414844 226.535625) scale(0.12 -0.12)\">\n     <defs>\n      <path id=\"ArialMT-63\" d=\"M 2588 1216 \nL 3141 1144 \nQ 3050 572 2676 248 \nQ 2303 -75 1759 -75 \nQ 1078 -75 664 370 \nQ 250 816 250 1647 \nQ 250 2184 428 2587 \nQ 606 2991 970 3192 \nQ 1334 3394 1763 3394 \nQ 2303 3394 2647 3120 \nQ 2991 2847 3088 2344 \nL 2541 2259 \nQ 2463 2594 2264 2762 \nQ 2066 2931 1784 2931 \nQ 1359 2931 1093 2626 \nQ 828 2322 828 1663 \nQ 828 994 1084 691 \nQ 1341 388 1753 388 \nQ 2084 388 2306 591 \nQ 2528 794 2588 1216 \nz\n\" transform=\"scale(0.015625)\"/>\n      <path id=\"ArialMT-6c\" d=\"M 409 0 \nL 409 4581 \nL 972 4581 \nL 972 0 \nL 409 0 \nz\n\" transform=\"scale(0.015625)\"/>\n      <path id=\"ArialMT-7a\" d=\"M 125 0 \nL 125 456 \nL 2238 2881 \nQ 1878 2863 1603 2863 \nL 250 2863 \nL 250 3319 \nL 2963 3319 \nL 2963 2947 \nL 1166 841 \nL 819 456 \nQ 1197 484 1528 484 \nL 3063 484 \nL 3063 0 \nL 125 0 \nz\n\" transform=\"scale(0.015625)\"/>\n      <path id=\"ArialMT-6d\" d=\"M 422 0 \nL 422 3319 \nL 925 3319 \nL 925 2853 \nQ 1081 3097 1340 3245 \nQ 1600 3394 1931 3394 \nQ 2300 3394 2536 3241 \nQ 2772 3088 2869 2813 \nQ 3263 3394 3894 3394 \nQ 4388 3394 4653 3120 \nQ 4919 2847 4919 2278 \nL 4919 0 \nL 4359 0 \nL 4359 2091 \nQ 4359 2428 4304 2576 \nQ 4250 2725 4106 2815 \nQ 3963 2906 3769 2906 \nQ 3419 2906 3187 2673 \nQ 2956 2441 2956 1928 \nL 2956 0 \nL 2394 0 \nL 2394 2156 \nQ 2394 2531 2256 2718 \nQ 2119 2906 1806 2906 \nQ 1569 2906 1367 2781 \nQ 1166 2656 1075 2415 \nQ 984 2175 984 1722 \nL 984 0 \nL 422 0 \nz\n\" transform=\"scale(0.015625)\"/>\n     </defs>\n     <use xlink:href=\"#ArialMT-35\"/>\n     <use xlink:href=\"#ArialMT-20\" x=\"55.615234\"/>\n     <use xlink:href=\"#ArialMT-64\" x=\"83.398438\"/>\n     <use xlink:href=\"#ArialMT-69\" x=\"139.013672\"/>\n     <use xlink:href=\"#ArialMT-66\" x=\"161.230469\"/>\n     <use xlink:href=\"#ArialMT-66\" x=\"187.263672\"/>\n     <use xlink:href=\"#ArialMT-65\" x=\"215.046875\"/>\n     <use xlink:href=\"#ArialMT-72\" x=\"270.662109\"/>\n     <use xlink:href=\"#ArialMT-65\" x=\"303.962891\"/>\n     <use xlink:href=\"#ArialMT-6e\" x=\"359.578125\"/>\n     <use xlink:href=\"#ArialMT-74\" x=\"415.193359\"/>\n     <use xlink:href=\"#ArialMT-20\" x=\"442.976562\"/>\n     <use xlink:href=\"#ArialMT-66\" x=\"470.759766\"/>\n     <use xlink:href=\"#ArialMT-75\" x=\"498.542969\"/>\n     <use xlink:href=\"#ArialMT-6e\" x=\"554.158203\"/>\n     <use xlink:href=\"#ArialMT-63\" x=\"609.773438\"/>\n     <use xlink:href=\"#ArialMT-74\" x=\"659.773438\"/>\n     <use xlink:href=\"#ArialMT-69\" x=\"687.556641\"/>\n     <use xlink:href=\"#ArialMT-6f\" x=\"709.773438\"/>\n     <use xlink:href=\"#ArialMT-6e\" x=\"765.388672\"/>\n     <use xlink:href=\"#ArialMT-20\" x=\"821.003906\"/>\n     <use xlink:href=\"#ArialMT-72\" x=\"848.787109\"/>\n     <use xlink:href=\"#ArialMT-65\" x=\"882.087891\"/>\n     <use xlink:href=\"#ArialMT-61\" x=\"937.703125\"/>\n     <use xlink:href=\"#ArialMT-6c\" x=\"993.318359\"/>\n     <use xlink:href=\"#ArialMT-69\" x=\"1015.535156\"/>\n     <use xlink:href=\"#ArialMT-7a\" x=\"1037.751953\"/>\n     <use xlink:href=\"#ArialMT-61\" x=\"1087.751953\"/>\n     <use xlink:href=\"#ArialMT-74\" x=\"1143.367188\"/>\n     <use xlink:href=\"#ArialMT-69\" x=\"1171.150391\"/>\n     <use xlink:href=\"#ArialMT-6f\" x=\"1193.367188\"/>\n     <use xlink:href=\"#ArialMT-6e\" x=\"1248.982422\"/>\n     <use xlink:href=\"#ArialMT-73\" x=\"1304.597656\"/>\n     <use xlink:href=\"#ArialMT-20\" x=\"1354.597656\"/>\n     <use xlink:href=\"#ArialMT-66\" x=\"1382.380859\"/>\n     <use xlink:href=\"#ArialMT-72\" x=\"1410.164062\"/>\n     <use xlink:href=\"#ArialMT-6f\" x=\"1443.464844\"/>\n     <use xlink:href=\"#ArialMT-6d\" x=\"1499.080078\"/>\n     <use xlink:href=\"#ArialMT-20\" x=\"1582.380859\"/>\n     <use xlink:href=\"#ArialMT-70\" x=\"1610.164062\"/>\n     <use xlink:href=\"#ArialMT-6f\" x=\"1665.779297\"/>\n     <use xlink:href=\"#ArialMT-73\" x=\"1721.394531\"/>\n     <use xlink:href=\"#ArialMT-74\" x=\"1771.394531\"/>\n     <use xlink:href=\"#ArialMT-65\" x=\"1799.177734\"/>\n     <use xlink:href=\"#ArialMT-72\" x=\"1854.792969\"/>\n     <use xlink:href=\"#ArialMT-69\" x=\"1888.09375\"/>\n     <use xlink:href=\"#ArialMT-6f\" x=\"1910.310547\"/>\n     <use xlink:href=\"#ArialMT-72\" x=\"1965.925781\"/>\n    </g>\n   </g>\n  </g>\n </g>\n <defs>\n  <clipPath id=\"p853b1341d2\">\n   <rect x=\"49.829531\" y=\"21.935625\" width=\"649.06\" height=\"151.06375\"/>\n  </clipPath>\n  <clipPath id=\"pd9a494dfb6\">\n   <rect x=\"49.829531\" y=\"232.535625\" width=\"649.06\" height=\"151.06375\"/>\n  </clipPath>\n </defs>\n</svg>\n"
     },
     "metadata": {},
     "output_type": "display_data"
    }
   ],
   "source": [
    "# Compute the posterior mean and covariance\n",
    "\n",
    "# Define the true function that we want to regress on\n",
    "f_sin = lambda x: (np.sin(x)).flatten()\n",
    "\n",
    "n1 = 5  # Number of points to condition on (training points)\n",
    "n2 = 75  # Number of points in posterior (test points)\n",
    "ny = 5  # Number of functions that will be sampled from the posterior\n",
    "domain = (0, 10)\n",
    "\n",
    "# Sample observations (X1, y1) on the function\n",
    "X1 = np.random.uniform(domain[0]+2, domain[1]-2, size=(n1, 1))\n",
    "y1 = f_sin(X1)\n",
    "# Predict points at uniform spacing to capture function\n",
    "X2 = np.linspace(domain[0], domain[1], n2).reshape(-1, 1)\n",
    "# Compute posterior mean and covariance\n",
    "μ2, covariance2 = gaussian_process(X1, y1, X2, exponentiated_quadratic)\n",
    "# Compute the standard deviation at the test points to be plotted\n",
    "sigma2 = np.sqrt(np.diag(covariance2))\n",
    "\n",
    "# Draw some samples of the posterior\n",
    "y2 = np.random.multivariate_normal(mean=μ2, cov=covariance2, size=ny)\n",
    "\n",
    "plot_gp_results(f_sin, X1, X2, y1, y2, domain, μ2, sigma2)"
   ]
  },
  {
   "cell_type": "markdown",
   "metadata": {},
   "source": [
    "<div style=\"background-color:rgba(255, 255, 255, 1); text-align:center; vertical-align: middle; padding:40px 0;\">\n",
    "\n",
    "#### <span style=\"color:blue\"> Kernel of the observations.</span>.\n",
    "![h](img/cov11.svg)\n",
    "\n",
    "#### <span style=\"color:blue\"> Kernel of observations vs to-predict.</span>.\n",
    "![h](img/cov12.svg)\n",
    "\n",
    "#### <span style=\"color:blue\"> Predictions Gaussian Process.</span>.\n",
    "![h](img/gp_output.svg)"
   ]
  },
  {
   "cell_type": "code",
   "execution_count": 3,
   "metadata": {},
   "outputs": [
    {
     "ename": "NameError",
     "evalue": "name 'gaussian_process_noise' is not defined",
     "output_type": "error",
     "traceback": [
      "\u001B[1;31m---------------------------------------------------------------------------\u001B[0m",
      "\u001B[1;31mNameError\u001B[0m                                 Traceback (most recent call last)",
      "Cell \u001B[1;32mIn [3], line 20\u001B[0m\n\u001B[0;32m     17\u001B[0m y1 \u001B[38;5;241m=\u001B[39m y1 \u001B[38;5;241m+\u001B[39m ((sigma_noise \u001B[38;5;241m*\u001B[39m\u001B[38;5;241m*\u001B[39m \u001B[38;5;241m2\u001B[39m) \u001B[38;5;241m*\u001B[39m np\u001B[38;5;241m.\u001B[39mrandom\u001B[38;5;241m.\u001B[39mrandn(n1))\n\u001B[0;32m     19\u001B[0m \u001B[38;5;66;03m# Compute posterior mean and covariance\u001B[39;00m\n\u001B[1;32m---> 20\u001B[0m μ2, covariance2 \u001B[38;5;241m=\u001B[39m \u001B[43mgaussian_process_noise\u001B[49m(X1, y1, X2, RBF() \u001B[38;5;241m+\u001B[39m ExpSineSquared(periodicity\u001B[38;5;241m=\u001B[39m\u001B[38;5;241m0.6\u001B[39m), n1, sigma_noise)\n\u001B[0;32m     21\u001B[0m \u001B[38;5;66;03m# Compute the standard deviation at the test points to be plotted\u001B[39;00m\n\u001B[0;32m     22\u001B[0m sigma2 \u001B[38;5;241m=\u001B[39m np\u001B[38;5;241m.\u001B[39msqrt(np\u001B[38;5;241m.\u001B[39mdiag(covariance2))\n",
      "\u001B[1;31mNameError\u001B[0m: name 'gaussian_process_noise' is not defined"
     ]
    }
   ],
   "source": [
    "# Compute the posterior mean and covariance\n",
    "f_sin = lambda x: (2*x*x+(10*np.sin(10*x))).flatten()\n",
    "\n",
    "n1 = 10  # Number of points to condition on (training points)\n",
    "n2 = 75  # Number of points in posterior (test points)\n",
    "ny = 5  # Number of functions that will be sampled from the posterior\n",
    "domain = (0, 4)\n",
    "\n",
    "# Sample observations (X1, y1) on the function\n",
    "X1 = np.random.uniform(domain[0], domain[1], size=(n1, 1))\n",
    "y1 = f_sin(X1)\n",
    "# Predict points at uniform spacing to capture function\n",
    "X2 = np.linspace(domain[0], domain[1], n2).reshape(-1, 1)\n",
    "\n",
    "sigma_noise = 1.  # The standard deviation of the noise\n",
    "# Add noise kernel to the samples we sampled previously\n",
    "y1 = y1 + ((sigma_noise ** 2) * np.random.randn(n1))\n",
    "\n",
    "# Compute posterior mean and covariance\n",
    "μ2, covariance2 = gaussian_process_noise(X1, y1, X2, RBF() + ExpSineSquared(periodicity=0.6), n1, sigma_noise)\n",
    "# Compute the standard deviation at the test points to be plotted\n",
    "sigma2 = np.sqrt(np.diag(covariance2))\n",
    "\n",
    "# Draw some samples of the posterior\n",
    "y2 = np.random.multivariate_normal(mean=μ2, cov=covariance2, size=ny)\n",
    "\n",
    "# We want an Error of less than 5.\n",
    "print(\"Error:\", np.mean(np.abs(μ2 - f_sin(X2))))\n",
    "\n",
    "plot_gp_results(f_sin, X1, X2, y1, y2, domain, μ2, sigma2)"
   ]
  },
  {
   "cell_type": "markdown",
   "metadata": {},
   "source": [
    "<div style=\"background-color:rgba(255, 255, 255, 1); text-align:center; vertical-align: middle; padding:40px 0;\">\n",
    "\n",
    "#### <span style=\"color:blue\"> Kernel of the observations (noisy).</span>.\n",
    "![h](img/cov11.svg)\n",
    "\n",
    "#### <span style=\"color:blue\"> Kernel of observations vs to-predict (noisy).</span>.\n",
    "![h](img/cov12.svg)\n",
    "\n",
    "#### <span style=\"color:blue\"> Prediction Gaussian Process (noisy).</span>.\n",
    "![h](img/gp_noise_output.svg)"
   ]
  },
  {
   "cell_type": "markdown",
   "metadata": {},
   "source": [
    "## Convert Dataset to PyTorch"
   ]
  },
  {
   "cell_type": "code",
   "execution_count": 26,
   "metadata": {},
   "outputs": [],
   "source": [
    "NUM_SAMPLES = 10000"
   ]
  },
  {
   "cell_type": "code",
   "execution_count": 27,
   "metadata": {},
   "outputs": [],
   "source": [
    "from util.vision_transformer_util import CircleSquareDataset\n",
    "from torch.utils import data"
   ]
  },
  {
   "cell_type": "code",
   "execution_count": 28,
   "metadata": {},
   "outputs": [
    {
     "name": "stdout",
     "output_type": "stream",
     "text": [
      "(10000, 16384) (10000,)\n",
      "(8000, 16384) (8000,) (2000, 16384) (2000,)\n",
      "7200 800\n"
     ]
    }
   ],
   "source": [
    "dataset, labels = make_dataset(int(NUM_SAMPLES/2))\n",
    "print(dataset.shape, labels.shape)\n",
    "dataset_train = dataset[:int(NUM_SAMPLES*0.8)]\n",
    "labels_train = labels[:int(NUM_SAMPLES*0.8)]\n",
    "\n",
    "dataset_val = dataset[int(NUM_SAMPLES*0.8):]\n",
    "labels_val = labels[int(NUM_SAMPLES*0.8):]\n",
    "\n",
    "print(dataset_train.shape, labels_train.shape, dataset_val.shape, labels_val.shape)\n",
    "\n",
    "dataset_pytorch = CircleSquareDataset(dataset_train, labels_train)\n",
    "\n",
    "n_train_examples = int(len(dataset_pytorch) * VALID_RATIO)\n",
    "n_valid_examples = len(dataset_pytorch) - n_train_examples\n",
    "\n",
    "train_data, valid_data = data.random_split(dataset_pytorch, [n_train_examples, n_valid_examples])\n",
    "\n",
    "print(len(train_data), len(valid_data))\n",
    "\n",
    "train_dataloader = data.DataLoader(train_data,\n",
    "                                 shuffle=True,\n",
    "                                 batch_size=BATCH_SIZE)\n",
    "\n",
    "val_dataloader = data.DataLoader(valid_data,\n",
    "                                 shuffle=True,\n",
    "                                 batch_size=BATCH_SIZE)"
   ]
  },
  {
   "cell_type": "markdown",
   "metadata": {},
   "source": [
    "## Transformer (Encoder - Decoder)"
   ]
  },
  {
   "cell_type": "code",
   "execution_count": 29,
   "metadata": {},
   "outputs": [],
   "source": [
    "from solutions.vision_transformer import ViT\n",
    "from util.vision_transformer_util import bcolors\n",
    "import torch"
   ]
  },
  {
   "cell_type": "code",
   "execution_count": 30,
   "metadata": {},
   "outputs": [
    {
     "name": "stdout",
     "output_type": "stream",
     "text": [
      "====================================================================================================\n",
      "Layer (type:depth-idx)                             Output Shape              Param #\n",
      "====================================================================================================\n",
      "ViT                                                [4096, 1]                 288\n",
      "├─Sequential: 1-1                                  [4096, 16, 16]            --\n",
      "│    └─Rearrange: 2-1                              [4096, 16, 48]            --\n",
      "│    └─Linear: 2-2                                 [4096, 16, 16]            784\n",
      "├─Transformer: 1-2                                 [4096, 17, 16]            --\n",
      "│    └─ModuleList: 2-3                             --                        --\n",
      "│    │    └─ModuleList: 3-1                        --                        18,592\n",
      "│    │    └─ModuleList: 3-2                        --                        18,592\n",
      "├─Identity: 1-3                                    [4096, 16]                --\n",
      "├─Sequential: 1-4                                  [4096, 1]                 --\n",
      "│    └─LayerNorm: 2-4                              [4096, 16]                32\n",
      "│    └─Linear: 2-5                                 [4096, 1]                 17\n",
      "====================================================================================================\n",
      "Total params: 38,305\n",
      "Trainable params: 38,305\n",
      "Non-trainable params: 0\n",
      "Total mult-adds (M): 155.72\n",
      "====================================================================================================\n",
      "Input size (MB): 12.58\n",
      "Forward/backward pass size (MB): 1007.19\n",
      "Params size (MB): 0.15\n",
      "Estimated Total Size (MB): 1019.93\n",
      "====================================================================================================\n"
     ]
    },
    {
     "name": "stderr",
     "output_type": "stream",
     "text": [
      "100%|██████████| 75/75 [01:53<00:00,  1.52s/it]\n"
     ]
    },
    {
     "data": {
      "image/svg+xml": "<?xml version=\"1.0\" encoding=\"utf-8\" standalone=\"no\"?>\n<!DOCTYPE svg PUBLIC \"-//W3C//DTD SVG 1.1//EN\"\n  \"http://www.w3.org/Graphics/SVG/1.1/DTD/svg11.dtd\">\n<svg xmlns:xlink=\"http://www.w3.org/1999/xlink\" width=\"383.245312pt\" height=\"261.130625pt\" viewBox=\"0 0 383.245312 261.130625\" xmlns=\"http://www.w3.org/2000/svg\" version=\"1.1\">\n <metadata>\n  <rdf:RDF xmlns:dc=\"http://purl.org/dc/elements/1.1/\" xmlns:cc=\"http://creativecommons.org/ns#\" xmlns:rdf=\"http://www.w3.org/1999/02/22-rdf-syntax-ns#\">\n   <cc:Work>\n    <dc:type rdf:resource=\"http://purl.org/dc/dcmitype/StillImage\"/>\n    <dc:date>2022-11-25T20:03:13.747648</dc:date>\n    <dc:format>image/svg+xml</dc:format>\n    <dc:creator>\n     <cc:Agent>\n      <dc:title>Matplotlib v3.5.0, https://matplotlib.org/</dc:title>\n     </cc:Agent>\n    </dc:creator>\n   </cc:Work>\n  </rdf:RDF>\n </metadata>\n <defs>\n  <style type=\"text/css\">*{stroke-linejoin: round; stroke-linecap: butt}</style>\n </defs>\n <g id=\"figure_1\">\n  <g id=\"patch_1\">\n   <path d=\"M 0 261.130625 \nL 383.245312 261.130625 \nL 383.245312 0 \nL 0 0 \nz\n\" style=\"fill: #ffffff\"/>\n  </g>\n  <g id=\"axes_1\">\n   <g id=\"patch_2\">\n    <path d=\"M 41.245313 224.64 \nL 376.045313 224.64 \nL 376.045313 7.2 \nL 41.245313 7.2 \nz\n\" style=\"fill: #eaeaf2\"/>\n   </g>\n   <g id=\"matplotlib.axis_1\">\n    <g id=\"xtick_1\">\n     <g id=\"line2d_1\">\n      <path d=\"M 52.350472 224.64 \nL 52.350472 7.2 \n\" clip-path=\"url(#pa4680a2676)\" style=\"fill: none; stroke: #ffffff; stroke-width: 0.8; stroke-linecap: round\"/>\n     </g>\n     <g id=\"text_1\">\n      <!-- 0 -->\n      <g style=\"fill: #262626\" transform=\"translate(49.570003 238.797812)scale(0.1 -0.1)\">\n       <defs>\n        <path id=\"ArialMT-30\" d=\"M 266 2259 \nQ 266 3072 433 3567 \nQ 600 4063 929 4331 \nQ 1259 4600 1759 4600 \nQ 2128 4600 2406 4451 \nQ 2684 4303 2865 4023 \nQ 3047 3744 3150 3342 \nQ 3253 2941 3253 2259 \nQ 3253 1453 3087 958 \nQ 2922 463 2592 192 \nQ 2263 -78 1759 -78 \nQ 1097 -78 719 397 \nQ 266 969 266 2259 \nz\nM 844 2259 \nQ 844 1131 1108 757 \nQ 1372 384 1759 384 \nQ 2147 384 2411 759 \nQ 2675 1134 2675 2259 \nQ 2675 3391 2411 3762 \nQ 2147 4134 1753 4134 \nQ 1366 4134 1134 3806 \nQ 844 3388 844 2259 \nz\n\" transform=\"scale(0.015625)\"/>\n       </defs>\n       <use xlink:href=\"#ArialMT-30\"/>\n      </g>\n     </g>\n    </g>\n    <g id=\"xtick_2\">\n     <g id=\"line2d_2\">\n      <path d=\"M 93.480693 224.64 \nL 93.480693 7.2 \n\" clip-path=\"url(#pa4680a2676)\" style=\"fill: none; stroke: #ffffff; stroke-width: 0.8; stroke-linecap: round\"/>\n     </g>\n     <g id=\"text_2\">\n      <!-- 10 -->\n      <g style=\"fill: #262626\" transform=\"translate(87.919756 238.797812)scale(0.1 -0.1)\">\n       <defs>\n        <path id=\"ArialMT-31\" d=\"M 2384 0 \nL 1822 0 \nL 1822 3584 \nQ 1619 3391 1289 3197 \nQ 959 3003 697 2906 \nL 697 3450 \nQ 1169 3672 1522 3987 \nQ 1875 4303 2022 4600 \nL 2384 4600 \nL 2384 0 \nz\n\" transform=\"scale(0.015625)\"/>\n       </defs>\n       <use xlink:href=\"#ArialMT-31\"/>\n       <use xlink:href=\"#ArialMT-30\" x=\"55.615234\"/>\n      </g>\n     </g>\n    </g>\n    <g id=\"xtick_3\">\n     <g id=\"line2d_3\">\n      <path d=\"M 134.610914 224.64 \nL 134.610914 7.2 \n\" clip-path=\"url(#pa4680a2676)\" style=\"fill: none; stroke: #ffffff; stroke-width: 0.8; stroke-linecap: round\"/>\n     </g>\n     <g id=\"text_3\">\n      <!-- 20 -->\n      <g style=\"fill: #262626\" transform=\"translate(129.049977 238.797812)scale(0.1 -0.1)\">\n       <defs>\n        <path id=\"ArialMT-32\" d=\"M 3222 541 \nL 3222 0 \nL 194 0 \nQ 188 203 259 391 \nQ 375 700 629 1000 \nQ 884 1300 1366 1694 \nQ 2113 2306 2375 2664 \nQ 2638 3022 2638 3341 \nQ 2638 3675 2398 3904 \nQ 2159 4134 1775 4134 \nQ 1369 4134 1125 3890 \nQ 881 3647 878 3216 \nL 300 3275 \nQ 359 3922 746 4261 \nQ 1134 4600 1788 4600 \nQ 2447 4600 2831 4234 \nQ 3216 3869 3216 3328 \nQ 3216 3053 3103 2787 \nQ 2991 2522 2730 2228 \nQ 2469 1934 1863 1422 \nQ 1356 997 1212 845 \nQ 1069 694 975 541 \nL 3222 541 \nz\n\" transform=\"scale(0.015625)\"/>\n       </defs>\n       <use xlink:href=\"#ArialMT-32\"/>\n       <use xlink:href=\"#ArialMT-30\" x=\"55.615234\"/>\n      </g>\n     </g>\n    </g>\n    <g id=\"xtick_4\">\n     <g id=\"line2d_4\">\n      <path d=\"M 175.741136 224.64 \nL 175.741136 7.2 \n\" clip-path=\"url(#pa4680a2676)\" style=\"fill: none; stroke: #ffffff; stroke-width: 0.8; stroke-linecap: round\"/>\n     </g>\n     <g id=\"text_4\">\n      <!-- 30 -->\n      <g style=\"fill: #262626\" transform=\"translate(170.180198 238.797812)scale(0.1 -0.1)\">\n       <defs>\n        <path id=\"ArialMT-33\" d=\"M 269 1209 \nL 831 1284 \nQ 928 806 1161 595 \nQ 1394 384 1728 384 \nQ 2125 384 2398 659 \nQ 2672 934 2672 1341 \nQ 2672 1728 2419 1979 \nQ 2166 2231 1775 2231 \nQ 1616 2231 1378 2169 \nL 1441 2663 \nQ 1497 2656 1531 2656 \nQ 1891 2656 2178 2843 \nQ 2466 3031 2466 3422 \nQ 2466 3731 2256 3934 \nQ 2047 4138 1716 4138 \nQ 1388 4138 1169 3931 \nQ 950 3725 888 3313 \nL 325 3413 \nQ 428 3978 793 4289 \nQ 1159 4600 1703 4600 \nQ 2078 4600 2393 4439 \nQ 2709 4278 2876 4000 \nQ 3044 3722 3044 3409 \nQ 3044 3113 2884 2869 \nQ 2725 2625 2413 2481 \nQ 2819 2388 3044 2092 \nQ 3269 1797 3269 1353 \nQ 3269 753 2831 336 \nQ 2394 -81 1725 -81 \nQ 1122 -81 723 278 \nQ 325 638 269 1209 \nz\n\" transform=\"scale(0.015625)\"/>\n       </defs>\n       <use xlink:href=\"#ArialMT-33\"/>\n       <use xlink:href=\"#ArialMT-30\" x=\"55.615234\"/>\n      </g>\n     </g>\n    </g>\n    <g id=\"xtick_5\">\n     <g id=\"line2d_5\">\n      <path d=\"M 216.871357 224.64 \nL 216.871357 7.2 \n\" clip-path=\"url(#pa4680a2676)\" style=\"fill: none; stroke: #ffffff; stroke-width: 0.8; stroke-linecap: round\"/>\n     </g>\n     <g id=\"text_5\">\n      <!-- 40 -->\n      <g style=\"fill: #262626\" transform=\"translate(211.310419 238.797812)scale(0.1 -0.1)\">\n       <defs>\n        <path id=\"ArialMT-34\" d=\"M 2069 0 \nL 2069 1097 \nL 81 1097 \nL 81 1613 \nL 2172 4581 \nL 2631 4581 \nL 2631 1613 \nL 3250 1613 \nL 3250 1097 \nL 2631 1097 \nL 2631 0 \nL 2069 0 \nz\nM 2069 1613 \nL 2069 3678 \nL 634 1613 \nL 2069 1613 \nz\n\" transform=\"scale(0.015625)\"/>\n       </defs>\n       <use xlink:href=\"#ArialMT-34\"/>\n       <use xlink:href=\"#ArialMT-30\" x=\"55.615234\"/>\n      </g>\n     </g>\n    </g>\n    <g id=\"xtick_6\">\n     <g id=\"line2d_6\">\n      <path d=\"M 258.001578 224.64 \nL 258.001578 7.2 \n\" clip-path=\"url(#pa4680a2676)\" style=\"fill: none; stroke: #ffffff; stroke-width: 0.8; stroke-linecap: round\"/>\n     </g>\n     <g id=\"text_6\">\n      <!-- 50 -->\n      <g style=\"fill: #262626\" transform=\"translate(252.44064 238.797812)scale(0.1 -0.1)\">\n       <defs>\n        <path id=\"ArialMT-35\" d=\"M 266 1200 \nL 856 1250 \nQ 922 819 1161 601 \nQ 1400 384 1738 384 \nQ 2144 384 2425 690 \nQ 2706 997 2706 1503 \nQ 2706 1984 2436 2262 \nQ 2166 2541 1728 2541 \nQ 1456 2541 1237 2417 \nQ 1019 2294 894 2097 \nL 366 2166 \nL 809 4519 \nL 3088 4519 \nL 3088 3981 \nL 1259 3981 \nL 1013 2750 \nQ 1425 3038 1878 3038 \nQ 2478 3038 2890 2622 \nQ 3303 2206 3303 1553 \nQ 3303 931 2941 478 \nQ 2500 -78 1738 -78 \nQ 1113 -78 717 272 \nQ 322 622 266 1200 \nz\n\" transform=\"scale(0.015625)\"/>\n       </defs>\n       <use xlink:href=\"#ArialMT-35\"/>\n       <use xlink:href=\"#ArialMT-30\" x=\"55.615234\"/>\n      </g>\n     </g>\n    </g>\n    <g id=\"xtick_7\">\n     <g id=\"line2d_7\">\n      <path d=\"M 299.131799 224.64 \nL 299.131799 7.2 \n\" clip-path=\"url(#pa4680a2676)\" style=\"fill: none; stroke: #ffffff; stroke-width: 0.8; stroke-linecap: round\"/>\n     </g>\n     <g id=\"text_7\">\n      <!-- 60 -->\n      <g style=\"fill: #262626\" transform=\"translate(293.570861 238.797812)scale(0.1 -0.1)\">\n       <defs>\n        <path id=\"ArialMT-36\" d=\"M 3184 3459 \nL 2625 3416 \nQ 2550 3747 2413 3897 \nQ 2184 4138 1850 4138 \nQ 1581 4138 1378 3988 \nQ 1113 3794 959 3422 \nQ 806 3050 800 2363 \nQ 1003 2672 1297 2822 \nQ 1591 2972 1913 2972 \nQ 2475 2972 2870 2558 \nQ 3266 2144 3266 1488 \nQ 3266 1056 3080 686 \nQ 2894 316 2569 119 \nQ 2244 -78 1831 -78 \nQ 1128 -78 684 439 \nQ 241 956 241 2144 \nQ 241 3472 731 4075 \nQ 1159 4600 1884 4600 \nQ 2425 4600 2770 4297 \nQ 3116 3994 3184 3459 \nz\nM 888 1484 \nQ 888 1194 1011 928 \nQ 1134 663 1356 523 \nQ 1578 384 1822 384 \nQ 2178 384 2434 671 \nQ 2691 959 2691 1453 \nQ 2691 1928 2437 2201 \nQ 2184 2475 1800 2475 \nQ 1419 2475 1153 2201 \nQ 888 1928 888 1484 \nz\n\" transform=\"scale(0.015625)\"/>\n       </defs>\n       <use xlink:href=\"#ArialMT-36\"/>\n       <use xlink:href=\"#ArialMT-30\" x=\"55.615234\"/>\n      </g>\n     </g>\n    </g>\n    <g id=\"xtick_8\">\n     <g id=\"line2d_8\">\n      <path d=\"M 340.26202 224.64 \nL 340.26202 7.2 \n\" clip-path=\"url(#pa4680a2676)\" style=\"fill: none; stroke: #ffffff; stroke-width: 0.8; stroke-linecap: round\"/>\n     </g>\n     <g id=\"text_8\">\n      <!-- 70 -->\n      <g style=\"fill: #262626\" transform=\"translate(334.701083 238.797812)scale(0.1 -0.1)\">\n       <defs>\n        <path id=\"ArialMT-37\" d=\"M 303 3981 \nL 303 4522 \nL 3269 4522 \nL 3269 4084 \nQ 2831 3619 2401 2847 \nQ 1972 2075 1738 1259 \nQ 1569 684 1522 0 \nL 944 0 \nQ 953 541 1156 1306 \nQ 1359 2072 1739 2783 \nQ 2119 3494 2547 3981 \nL 303 3981 \nz\n\" transform=\"scale(0.015625)\"/>\n       </defs>\n       <use xlink:href=\"#ArialMT-37\"/>\n       <use xlink:href=\"#ArialMT-30\" x=\"55.615234\"/>\n      </g>\n     </g>\n    </g>\n    <g id=\"text_9\">\n     <!-- Epoch -->\n     <g style=\"fill: #262626\" transform=\"translate(194.46875 251.943125)scale(0.1 -0.1)\">\n      <defs>\n       <path id=\"ArialMT-45\" d=\"M 506 0 \nL 506 4581 \nL 3819 4581 \nL 3819 4041 \nL 1113 4041 \nL 1113 2638 \nL 3647 2638 \nL 3647 2100 \nL 1113 2100 \nL 1113 541 \nL 3925 541 \nL 3925 0 \nL 506 0 \nz\n\" transform=\"scale(0.015625)\"/>\n       <path id=\"ArialMT-70\" d=\"M 422 -1272 \nL 422 3319 \nL 934 3319 \nL 934 2888 \nQ 1116 3141 1344 3267 \nQ 1572 3394 1897 3394 \nQ 2322 3394 2647 3175 \nQ 2972 2956 3137 2557 \nQ 3303 2159 3303 1684 \nQ 3303 1175 3120 767 \nQ 2938 359 2589 142 \nQ 2241 -75 1856 -75 \nQ 1575 -75 1351 44 \nQ 1128 163 984 344 \nL 984 -1272 \nL 422 -1272 \nz\nM 931 1641 \nQ 931 1000 1190 694 \nQ 1450 388 1819 388 \nQ 2194 388 2461 705 \nQ 2728 1022 2728 1688 \nQ 2728 2322 2467 2637 \nQ 2206 2953 1844 2953 \nQ 1484 2953 1207 2617 \nQ 931 2281 931 1641 \nz\n\" transform=\"scale(0.015625)\"/>\n       <path id=\"ArialMT-6f\" d=\"M 213 1659 \nQ 213 2581 725 3025 \nQ 1153 3394 1769 3394 \nQ 2453 3394 2887 2945 \nQ 3322 2497 3322 1706 \nQ 3322 1066 3130 698 \nQ 2938 331 2570 128 \nQ 2203 -75 1769 -75 \nQ 1072 -75 642 372 \nQ 213 819 213 1659 \nz\nM 791 1659 \nQ 791 1022 1069 705 \nQ 1347 388 1769 388 \nQ 2188 388 2466 706 \nQ 2744 1025 2744 1678 \nQ 2744 2294 2464 2611 \nQ 2184 2928 1769 2928 \nQ 1347 2928 1069 2612 \nQ 791 2297 791 1659 \nz\n\" transform=\"scale(0.015625)\"/>\n       <path id=\"ArialMT-63\" d=\"M 2588 1216 \nL 3141 1144 \nQ 3050 572 2676 248 \nQ 2303 -75 1759 -75 \nQ 1078 -75 664 370 \nQ 250 816 250 1647 \nQ 250 2184 428 2587 \nQ 606 2991 970 3192 \nQ 1334 3394 1763 3394 \nQ 2303 3394 2647 3120 \nQ 2991 2847 3088 2344 \nL 2541 2259 \nQ 2463 2594 2264 2762 \nQ 2066 2931 1784 2931 \nQ 1359 2931 1093 2626 \nQ 828 2322 828 1663 \nQ 828 994 1084 691 \nQ 1341 388 1753 388 \nQ 2084 388 2306 591 \nQ 2528 794 2588 1216 \nz\n\" transform=\"scale(0.015625)\"/>\n       <path id=\"ArialMT-68\" d=\"M 422 0 \nL 422 4581 \nL 984 4581 \nL 984 2938 \nQ 1378 3394 1978 3394 \nQ 2347 3394 2619 3248 \nQ 2891 3103 3008 2847 \nQ 3125 2591 3125 2103 \nL 3125 0 \nL 2563 0 \nL 2563 2103 \nQ 2563 2525 2380 2717 \nQ 2197 2909 1863 2909 \nQ 1613 2909 1392 2779 \nQ 1172 2650 1078 2428 \nQ 984 2206 984 1816 \nL 984 0 \nL 422 0 \nz\n\" transform=\"scale(0.015625)\"/>\n      </defs>\n      <use xlink:href=\"#ArialMT-45\"/>\n      <use xlink:href=\"#ArialMT-70\" x=\"66.699219\"/>\n      <use xlink:href=\"#ArialMT-6f\" x=\"122.314453\"/>\n      <use xlink:href=\"#ArialMT-63\" x=\"177.929688\"/>\n      <use xlink:href=\"#ArialMT-68\" x=\"227.929688\"/>\n     </g>\n    </g>\n   </g>\n   <g id=\"matplotlib.axis_2\">\n    <g id=\"ytick_1\">\n     <g id=\"line2d_9\">\n      <path d=\"M 41.245313 209.55251 \nL 376.045313 209.55251 \n\" clip-path=\"url(#pa4680a2676)\" style=\"fill: none; stroke: #ffffff; stroke-width: 0.8; stroke-linecap: round\"/>\n     </g>\n     <g id=\"text_10\">\n      <!-- 0.3 -->\n      <g style=\"fill: #262626\" transform=\"translate(20.345313 213.131416)scale(0.1 -0.1)\">\n       <defs>\n        <path id=\"ArialMT-2e\" d=\"M 581 0 \nL 581 641 \nL 1222 641 \nL 1222 0 \nL 581 0 \nz\n\" transform=\"scale(0.015625)\"/>\n       </defs>\n       <use xlink:href=\"#ArialMT-30\"/>\n       <use xlink:href=\"#ArialMT-2e\" x=\"55.615234\"/>\n       <use xlink:href=\"#ArialMT-33\" x=\"83.398438\"/>\n      </g>\n     </g>\n    </g>\n    <g id=\"ytick_2\">\n     <g id=\"line2d_10\">\n      <path d=\"M 41.245313 185.135578 \nL 376.045313 185.135578 \n\" clip-path=\"url(#pa4680a2676)\" style=\"fill: none; stroke: #ffffff; stroke-width: 0.8; stroke-linecap: round\"/>\n     </g>\n     <g id=\"text_11\">\n      <!-- 0.4 -->\n      <g style=\"fill: #262626\" transform=\"translate(20.345313 188.714484)scale(0.1 -0.1)\">\n       <use xlink:href=\"#ArialMT-30\"/>\n       <use xlink:href=\"#ArialMT-2e\" x=\"55.615234\"/>\n       <use xlink:href=\"#ArialMT-34\" x=\"83.398438\"/>\n      </g>\n     </g>\n    </g>\n    <g id=\"ytick_3\">\n     <g id=\"line2d_11\">\n      <path d=\"M 41.245313 160.718645 \nL 376.045313 160.718645 \n\" clip-path=\"url(#pa4680a2676)\" style=\"fill: none; stroke: #ffffff; stroke-width: 0.8; stroke-linecap: round\"/>\n     </g>\n     <g id=\"text_12\">\n      <!-- 0.5 -->\n      <g style=\"fill: #262626\" transform=\"translate(20.345313 164.297552)scale(0.1 -0.1)\">\n       <use xlink:href=\"#ArialMT-30\"/>\n       <use xlink:href=\"#ArialMT-2e\" x=\"55.615234\"/>\n       <use xlink:href=\"#ArialMT-35\" x=\"83.398438\"/>\n      </g>\n     </g>\n    </g>\n    <g id=\"ytick_4\">\n     <g id=\"line2d_12\">\n      <path d=\"M 41.245313 136.301713 \nL 376.045313 136.301713 \n\" clip-path=\"url(#pa4680a2676)\" style=\"fill: none; stroke: #ffffff; stroke-width: 0.8; stroke-linecap: round\"/>\n     </g>\n     <g id=\"text_13\">\n      <!-- 0.6 -->\n      <g style=\"fill: #262626\" transform=\"translate(20.345313 139.880619)scale(0.1 -0.1)\">\n       <use xlink:href=\"#ArialMT-30\"/>\n       <use xlink:href=\"#ArialMT-2e\" x=\"55.615234\"/>\n       <use xlink:href=\"#ArialMT-36\" x=\"83.398438\"/>\n      </g>\n     </g>\n    </g>\n    <g id=\"ytick_5\">\n     <g id=\"line2d_13\">\n      <path d=\"M 41.245313 111.884781 \nL 376.045313 111.884781 \n\" clip-path=\"url(#pa4680a2676)\" style=\"fill: none; stroke: #ffffff; stroke-width: 0.8; stroke-linecap: round\"/>\n     </g>\n     <g id=\"text_14\">\n      <!-- 0.7 -->\n      <g style=\"fill: #262626\" transform=\"translate(20.345313 115.463687)scale(0.1 -0.1)\">\n       <use xlink:href=\"#ArialMT-30\"/>\n       <use xlink:href=\"#ArialMT-2e\" x=\"55.615234\"/>\n       <use xlink:href=\"#ArialMT-37\" x=\"83.398438\"/>\n      </g>\n     </g>\n    </g>\n    <g id=\"ytick_6\">\n     <g id=\"line2d_14\">\n      <path d=\"M 41.245313 87.467848 \nL 376.045313 87.467848 \n\" clip-path=\"url(#pa4680a2676)\" style=\"fill: none; stroke: #ffffff; stroke-width: 0.8; stroke-linecap: round\"/>\n     </g>\n     <g id=\"text_15\">\n      <!-- 0.8 -->\n      <g style=\"fill: #262626\" transform=\"translate(20.345313 91.046754)scale(0.1 -0.1)\">\n       <defs>\n        <path id=\"ArialMT-38\" d=\"M 1131 2484 \nQ 781 2613 612 2850 \nQ 444 3088 444 3419 \nQ 444 3919 803 4259 \nQ 1163 4600 1759 4600 \nQ 2359 4600 2725 4251 \nQ 3091 3903 3091 3403 \nQ 3091 3084 2923 2848 \nQ 2756 2613 2416 2484 \nQ 2838 2347 3058 2040 \nQ 3278 1734 3278 1309 \nQ 3278 722 2862 322 \nQ 2447 -78 1769 -78 \nQ 1091 -78 675 323 \nQ 259 725 259 1325 \nQ 259 1772 486 2073 \nQ 713 2375 1131 2484 \nz\nM 1019 3438 \nQ 1019 3113 1228 2906 \nQ 1438 2700 1772 2700 \nQ 2097 2700 2305 2904 \nQ 2513 3109 2513 3406 \nQ 2513 3716 2298 3927 \nQ 2084 4138 1766 4138 \nQ 1444 4138 1231 3931 \nQ 1019 3725 1019 3438 \nz\nM 838 1322 \nQ 838 1081 952 856 \nQ 1066 631 1291 507 \nQ 1516 384 1775 384 \nQ 2178 384 2440 643 \nQ 2703 903 2703 1303 \nQ 2703 1709 2433 1975 \nQ 2163 2241 1756 2241 \nQ 1359 2241 1098 1978 \nQ 838 1716 838 1322 \nz\n\" transform=\"scale(0.015625)\"/>\n       </defs>\n       <use xlink:href=\"#ArialMT-30\"/>\n       <use xlink:href=\"#ArialMT-2e\" x=\"55.615234\"/>\n       <use xlink:href=\"#ArialMT-38\" x=\"83.398438\"/>\n      </g>\n     </g>\n    </g>\n    <g id=\"ytick_7\">\n     <g id=\"line2d_15\">\n      <path d=\"M 41.245313 63.050916 \nL 376.045313 63.050916 \n\" clip-path=\"url(#pa4680a2676)\" style=\"fill: none; stroke: #ffffff; stroke-width: 0.8; stroke-linecap: round\"/>\n     </g>\n     <g id=\"text_16\">\n      <!-- 0.9 -->\n      <g style=\"fill: #262626\" transform=\"translate(20.345313 66.629822)scale(0.1 -0.1)\">\n       <defs>\n        <path id=\"ArialMT-39\" d=\"M 350 1059 \nL 891 1109 \nQ 959 728 1153 556 \nQ 1347 384 1650 384 \nQ 1909 384 2104 503 \nQ 2300 622 2425 820 \nQ 2550 1019 2634 1356 \nQ 2719 1694 2719 2044 \nQ 2719 2081 2716 2156 \nQ 2547 1888 2255 1720 \nQ 1963 1553 1622 1553 \nQ 1053 1553 659 1965 \nQ 266 2378 266 3053 \nQ 266 3750 677 4175 \nQ 1088 4600 1706 4600 \nQ 2153 4600 2523 4359 \nQ 2894 4119 3086 3673 \nQ 3278 3228 3278 2384 \nQ 3278 1506 3087 986 \nQ 2897 466 2520 194 \nQ 2144 -78 1638 -78 \nQ 1100 -78 759 220 \nQ 419 519 350 1059 \nz\nM 2653 3081 \nQ 2653 3566 2395 3850 \nQ 2138 4134 1775 4134 \nQ 1400 4134 1122 3828 \nQ 844 3522 844 3034 \nQ 844 2597 1108 2323 \nQ 1372 2050 1759 2050 \nQ 2150 2050 2401 2323 \nQ 2653 2597 2653 3081 \nz\n\" transform=\"scale(0.015625)\"/>\n       </defs>\n       <use xlink:href=\"#ArialMT-30\"/>\n       <use xlink:href=\"#ArialMT-2e\" x=\"55.615234\"/>\n       <use xlink:href=\"#ArialMT-39\" x=\"83.398438\"/>\n      </g>\n     </g>\n    </g>\n    <g id=\"ytick_8\">\n     <g id=\"line2d_16\">\n      <path d=\"M 41.245313 38.633983 \nL 376.045313 38.633983 \n\" clip-path=\"url(#pa4680a2676)\" style=\"fill: none; stroke: #ffffff; stroke-width: 0.8; stroke-linecap: round\"/>\n     </g>\n     <g id=\"text_17\">\n      <!-- 1.0 -->\n      <g style=\"fill: #262626\" transform=\"translate(20.345313 42.21289)scale(0.1 -0.1)\">\n       <use xlink:href=\"#ArialMT-31\"/>\n       <use xlink:href=\"#ArialMT-2e\" x=\"55.615234\"/>\n       <use xlink:href=\"#ArialMT-30\" x=\"83.398438\"/>\n      </g>\n     </g>\n    </g>\n    <g id=\"ytick_9\">\n     <g id=\"line2d_17\">\n      <path d=\"M 41.245313 14.217051 \nL 376.045313 14.217051 \n\" clip-path=\"url(#pa4680a2676)\" style=\"fill: none; stroke: #ffffff; stroke-width: 0.8; stroke-linecap: round\"/>\n     </g>\n     <g id=\"text_18\">\n      <!-- 1.1 -->\n      <g style=\"fill: #262626\" transform=\"translate(20.345313 17.795957)scale(0.1 -0.1)\">\n       <use xlink:href=\"#ArialMT-31\"/>\n       <use xlink:href=\"#ArialMT-2e\" x=\"55.615234\"/>\n       <use xlink:href=\"#ArialMT-31\" x=\"83.398438\"/>\n      </g>\n     </g>\n    </g>\n    <g id=\"text_19\">\n     <!-- Loss -->\n     <g style=\"fill: #262626\" transform=\"translate(14.357813 126.480937)rotate(-90)scale(0.1 -0.1)\">\n      <defs>\n       <path id=\"ArialMT-4c\" d=\"M 469 0 \nL 469 4581 \nL 1075 4581 \nL 1075 541 \nL 3331 541 \nL 3331 0 \nL 469 0 \nz\n\" transform=\"scale(0.015625)\"/>\n       <path id=\"ArialMT-73\" d=\"M 197 991 \nL 753 1078 \nQ 800 744 1014 566 \nQ 1228 388 1613 388 \nQ 2000 388 2187 545 \nQ 2375 703 2375 916 \nQ 2375 1106 2209 1216 \nQ 2094 1291 1634 1406 \nQ 1016 1563 777 1677 \nQ 538 1791 414 1992 \nQ 291 2194 291 2438 \nQ 291 2659 392 2848 \nQ 494 3038 669 3163 \nQ 800 3259 1026 3326 \nQ 1253 3394 1513 3394 \nQ 1903 3394 2198 3281 \nQ 2494 3169 2634 2976 \nQ 2775 2784 2828 2463 \nL 2278 2388 \nQ 2241 2644 2061 2787 \nQ 1881 2931 1553 2931 \nQ 1166 2931 1000 2803 \nQ 834 2675 834 2503 \nQ 834 2394 903 2306 \nQ 972 2216 1119 2156 \nQ 1203 2125 1616 2013 \nQ 2213 1853 2448 1751 \nQ 2684 1650 2818 1456 \nQ 2953 1263 2953 975 \nQ 2953 694 2789 445 \nQ 2625 197 2315 61 \nQ 2006 -75 1616 -75 \nQ 969 -75 630 194 \nQ 291 463 197 991 \nz\n\" transform=\"scale(0.015625)\"/>\n      </defs>\n      <use xlink:href=\"#ArialMT-4c\"/>\n      <use xlink:href=\"#ArialMT-6f\" x=\"55.615234\"/>\n      <use xlink:href=\"#ArialMT-73\" x=\"111.230469\"/>\n      <use xlink:href=\"#ArialMT-73\" x=\"161.230469\"/>\n     </g>\n    </g>\n   </g>\n   <g id=\"line2d_18\">\n    <path d=\"M 56.463494 17.083636 \nL 60.576516 102.674259 \nL 64.689539 111.979848 \nL 68.802561 109.622102 \nL 72.915583 108.841635 \nL 77.028605 112.4654 \nL 81.141627 113.190964 \nL 85.254649 111.872369 \nL 89.367671 111.934812 \nL 93.480693 113.1246 \nL 97.593715 113.453242 \nL 101.706738 113.056612 \nL 105.81976 112.905742 \nL 109.932782 113.276561 \nL 114.045804 113.54731 \nL 118.158826 113.503685 \nL 122.271848 113.35331 \nL 126.38487 113.413642 \nL 130.497892 113.570559 \nL 134.610914 113.640133 \nL 138.723937 113.568449 \nL 142.836959 113.542907 \nL 146.949981 113.607976 \nL 151.063003 113.676888 \nL 155.176025 113.656724 \nL 159.289047 113.700537 \nL 163.402069 113.732643 \nL 167.515091 113.799 \nL 171.628113 113.881017 \nL 175.741136 113.926628 \nL 179.854158 113.948822 \nL 183.96718 114.139271 \nL 188.080202 114.295897 \nL 192.193224 114.542399 \nL 196.306246 113.656098 \nL 200.419268 113.677419 \nL 204.53229 113.914272 \nL 208.645312 114.128356 \nL 212.758335 114.273863 \nL 216.871357 114.416285 \nL 220.984379 114.735024 \nL 225.097401 114.873101 \nL 229.210423 115.793727 \nL 233.323445 116.632555 \nL 237.436467 118.247643 \nL 241.549489 116.548471 \nL 245.662512 121.004435 \nL 249.775534 125.387747 \nL 253.888556 127.500155 \nL 258.001578 133.767688 \nL 262.1146 135.974418 \nL 266.227622 140.606597 \nL 270.340644 142.071463 \nL 274.453666 143.856422 \nL 278.566688 149.806148 \nL 282.679711 150.162566 \nL 286.792733 154.655096 \nL 290.905755 120.873343 \nL 295.018777 141.507103 \nL 299.131799 148.307168 \nL 303.244821 143.740233 \nL 307.357843 141.418027 \nL 311.470865 146.042202 \nL 315.583887 150.397956 \nL 319.69691 160.688086 \nL 323.809932 164.901609 \nL 327.922954 166.554427 \nL 332.035976 152.765758 \nL 336.148998 161.276886 \nL 340.26202 169.036203 \nL 344.375042 179.672931 \nL 348.488064 189.174269 \nL 352.601086 199.132068 \nL 356.714109 206.839937 \nL 360.827131 214.756364 \n\" clip-path=\"url(#pa4680a2676)\" style=\"fill: none; stroke: #1f77b4; stroke-width: 1.5; stroke-linecap: round\"/>\n   </g>\n   <g id=\"patch_3\">\n    <path d=\"M 41.245313 224.64 \nL 41.245313 7.2 \n\" style=\"fill: none; stroke: #ffffff; stroke-width: 0.8; stroke-linejoin: miter; stroke-linecap: square\"/>\n   </g>\n   <g id=\"patch_4\">\n    <path d=\"M 376.045313 224.64 \nL 376.045313 7.2 \n\" style=\"fill: none; stroke: #ffffff; stroke-width: 0.8; stroke-linejoin: miter; stroke-linecap: square\"/>\n   </g>\n   <g id=\"patch_5\">\n    <path d=\"M 41.245313 224.64 \nL 376.045312 224.64 \n\" style=\"fill: none; stroke: #ffffff; stroke-width: 0.8; stroke-linejoin: miter; stroke-linecap: square\"/>\n   </g>\n   <g id=\"patch_6\">\n    <path d=\"M 41.245313 7.2 \nL 376.045312 7.2 \n\" style=\"fill: none; stroke: #ffffff; stroke-width: 0.8; stroke-linejoin: miter; stroke-linecap: square\"/>\n   </g>\n  </g>\n </g>\n <defs>\n  <clipPath id=\"pa4680a2676\">\n   <rect x=\"41.245313\" y=\"7.2\" width=\"334.8\" height=\"217.44\"/>\n  </clipPath>\n </defs>\n</svg>\n",
      "text/plain": [
       "<Figure size 432x288 with 1 Axes>"
      ]
     },
     "metadata": {},
     "output_type": "display_data"
    }
   ],
   "source": [
    "# We check if a GPU is available and use it. To force CPU set: device = \"cpu\"\n",
    "device = torch.device('cuda' if torch.cuda.is_available() else 'cpu')\n",
    "\n",
    "transf = ViT(image_size = 16,\n",
    "    patch_size = 4,\n",
    "    num_classes = 1, # We don't predict classes\n",
    "    dim = 16,\n",
    "    depth = 2,\n",
    "    heads = 4,\n",
    "    mlp_dim = 64)\n",
    "\n",
    "# Convert transformer to selected device\n",
    "transf = transf.to(device)\n",
    "\n",
    "transf.train()\n",
    "\n",
    "print(summary(transf, input_size=(BATCH_SIZE,3, 16, 16)))\n",
    "\n",
    "criterion = nn.BCELoss()\n",
    "optimizer = optim.AdamW(transf.parameters(), lr=0.05)\n",
    "loss_per_epoch = []\n",
    "for epoch in trange(75):  # loop over the dataset multiple times\n",
    "\n",
    "    running_loss = 0.0\n",
    "    for i, (data, label) in enumerate(train_dataloader, 0):\n",
    "\n",
    "        # Convert data and label (target in lecture) to selected device\n",
    "        data = data.to(device)\n",
    "        label = label.to(device)\n",
    "\n",
    "        # zero the parameter gradients\n",
    "        optimizer.zero_grad()\n",
    "\n",
    "        # forward + backward + optimize\n",
    "        outputs = transf(data).squeeze()\n",
    "    \n",
    "        loss = criterion(outputs, label)\n",
    "        loss.backward()\n",
    "        optimizer.step()\n",
    "\n",
    "        running_loss += loss.item()\n",
    "        \n",
    "    loss_per_epoch.append(running_loss/len(train_dataloader))\n",
    "    \n",
    "plt.plot(np.arange(len(loss_per_epoch))+1, loss_per_epoch)\n",
    "plt.ylabel('Loss')\n",
    "plt.xlabel('Epoch')\n",
    "plt.show()\n"
   ]
  },
  {
   "cell_type": "markdown",
   "metadata": {},
   "source": [
    "<div style=\"background-color:rgba(255, 255, 255, 1); text-align:center; vertical-align: middle; padding:40px 0;\">\n",
    "\n",
    "#### <span style=\"color:blue\"> Potential transformer loss.</span>.\n",
    "![h](img/transformer_loss_1.svg)"
   ]
  },
  {
   "cell_type": "code",
   "execution_count": 32,
   "metadata": {},
   "outputs": [
    {
     "name": "stdout",
     "output_type": "stream",
     "text": [
      "     class  Pred  RAW_Pred  GT    Correct?\n",
      "0   Square     1     0.975   1  \u001B[92m✔\u001B[0m\n",
      "1   Square     1     0.826   0  \u001B[91m✖\u001B[0m\n",
      "2   Circle     0     0.093   0  \u001B[92m✔\u001B[0m\n",
      "3   Square     1     0.997   1  \u001B[92m✔\u001B[0m\n",
      "4   Circle     0     0.004   0  \u001B[92m✔\u001B[0m\n",
      "5   Circle     0     0.048   0  \u001B[92m✔\u001B[0m\n",
      "6   Circle     0     0.040   0  \u001B[92m✔\u001B[0m\n",
      "7   Circle     0     0.004   0  \u001B[92m✔\u001B[0m\n",
      "8   Circle     0     0.026   0  \u001B[92m✔\u001B[0m\n",
      "9   Circle     0     0.050   0  \u001B[92m✔\u001B[0m\n",
      "10  Circle     0     0.004   0  \u001B[92m✔\u001B[0m\n",
      "11  Circle     0     0.005   0  \u001B[92m✔\u001B[0m\n",
      "12  Square     1     0.730   1  \u001B[92m✔\u001B[0m\n",
      "13  Circle     0     0.056   0  \u001B[92m✔\u001B[0m\n",
      "14  Circle     0     0.049   0  \u001B[92m✔\u001B[0m\n",
      "15  Square     1     0.714   1  \u001B[92m✔\u001B[0m\n",
      "16  Square     1     0.999   1  \u001B[92m✔\u001B[0m\n",
      "17  Square     1     0.998   1  \u001B[92m✔\u001B[0m\n",
      "18  Circle     0     0.487   1  \u001B[91m✖\u001B[0m\n",
      "19  Circle     0     0.316   0  \u001B[92m✔\u001B[0m\n",
      "Test ACC: 0.86875\n"
     ]
    }
   ],
   "source": [
    "data_frame, acc = transf.predict(val_dataloader, device)\n",
    "print(data_frame[0:20])\n",
    "print(\"Test ACC:\", acc)"
   ]
  }
 ],
 "metadata": {
  "kernelspec": {
   "display_name": "Python 3.7.11 ('YoloV5')",
   "language": "python",
   "name": "python3"
  },
  "language_info": {
   "codemirror_mode": {
    "name": "ipython",
    "version": 3
   },
   "file_extension": ".py",
   "mimetype": "text/x-python",
   "name": "python",
   "nbconvert_exporter": "python",
   "pygments_lexer": "ipython3",
   "version": "3.7.11"
  },
  "orig_nbformat": 4,
  "vscode": {
   "interpreter": {
    "hash": "426818cf9e88c3b576fcf4721d4301265ec6e8921c90f027b39aaa11f5198d85"
   }
  }
 },
 "nbformat": 4,
 "nbformat_minor": 2
}