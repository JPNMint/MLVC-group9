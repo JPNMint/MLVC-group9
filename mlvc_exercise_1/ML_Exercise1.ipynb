{
 "cells": [
  {
   "cell_type": "markdown",
   "metadata": {},
   "source": [
    "# ML Exercise Demo\n",
    "\n",
    "This notebook contains the first exercise of the Machine Learning for Visual Computing (183.605) lecture at TU Wien. Assignment via TUWEL. Please be aware of the deadlines in TUWEL.\n",
    "\n",
    "* Upload a zip-file with the required programms. The programming language is python.\n",
    "    1. Single Layer Perceptron --> `solutions/perceptron.py`\n",
    "    2. Support Vector Machine --> `solutions/svm.py`\n",
    "    3. Multi Layer Perceptron --> `solutions/mlp.py`\n",
    "* If you needed additional conda or pip packages add an anaconda environment.yml to the zip-file\n",
    "    1. conda env export > environment.yml\n",
    "    2. See --> https://conda.io/projects/conda/en/latest/user-guide/tasks/manage-environments.html#sharing-an-environment\n"
   ]
  },
  {
   "cell_type": "markdown",
   "metadata": {},
   "source": [
    "##### Conda instructions\n",
    "\n",
    "1. conda create --name MLVC\n",
    "2. conda init\n",
    "3. source ~/.bashrc\n",
    "4. conda activate MLVC\n",
    "5. conda install pytorch torchvision torchaudio cudatoolkit=11.6 -c pytorch -c conda-forge\n",
    "6. conda install -c conda-forge opencv matplotlib tqdm torchinfo pandas\n",
    "\n",
    "With jupyter notebook:\n",
    "\n",
    "7. conda install nbformat ipykernel\n",
    "8. python -m ipykernel install --user --name=MLVC"
   ]
  },
  {
   "cell_type": "code",
   "execution_count": 10,
   "metadata": {},
   "outputs": [
    {
     "name": "stdout",
     "output_type": "stream",
     "text": [
      "Enabling notebook extension jupyter-js-widgets/extension...\n",
      "      - Validating: \u001b[32mOK\u001b[0m\n"
     ]
    }
   ],
   "source": [
    "# juypter magic\n",
    "!jupyter nbextension enable --py widgetsnbextension"
   ]
  },
  {
   "cell_type": "markdown",
   "metadata": {},
   "source": [
    "## 1. Settings\n",
    "\n",
    "This are the global settings."
   ]
  },
  {
   "cell_type": "code",
   "execution_count": 11,
   "metadata": {},
   "outputs": [
    {
     "name": "stdout",
     "output_type": "stream",
     "text": [
      "The autoreload extension is already loaded. To reload it, use:\n",
      "  %reload_ext autoreload\n"
     ]
    }
   ],
   "source": [
    "#Auto reloads all plugins each time they are changed\n",
    "#   --> See: https://ipython.org/ipython-doc/3/config/extensions/autoreload.html\n",
    "%load_ext autoreload\n",
    "%autoreload 2\n",
    "\n",
    "# General setting for the ipynb\n",
    "NUM_SAMPLES = 10000    # Number of training samples that will be generated, do not exceed 25.000 on the TUWEL Jupyter Notebooks (will crash kernel)\n",
    "TEST_RATIO = 0.9       # Percentage of the generated samples that are used for training (rest is used for testing). [0, 1]\n",
    "BATCH_SIZE = 128       # Batch size for the MLP. Larger batch sizes might improve training, but will require more (GPU-)memory.\n",
    "EPOCHS_SLP = 100       # Amount of training epochs for the single layer perceptron and svm\n",
    "EPOCHS_MLP = 100       # Amount of training epochs for the multi layer perceptron\n",
    "\n",
    "LR_SLP = 0.5           # Learning rate of the SLP and the SVM\n",
    "LR_MLP = 0.01          # Learning rate of the MLPs"
   ]
  },
  {
   "cell_type": "markdown",
   "metadata": {},
   "source": [
    "## 2. Generate and prepare data"
   ]
  },
  {
   "cell_type": "code",
   "execution_count": 12,
   "metadata": {},
   "outputs": [],
   "source": [
    "import matplotlib.pyplot as plt\n",
    "import numpy as np\n",
    "import cv2\n",
    "from tqdm import tqdm, trange\n",
    "import math\n",
    "\n",
    "np.set_printoptions(suppress=True)"
   ]
  },
  {
   "cell_type": "code",
   "execution_count": 13,
   "metadata": {},
   "outputs": [
    {
     "name": "stdout",
     "output_type": "stream",
     "text": [
      "(9000, 16384) (9000,) (1000, 16384) (1000,)\n"
     ]
    },
    {
     "data": {
      "image/png": "[encoded data removed]",
      "text/plain": [
       "<Figure size 1200x1200 with 16 Axes>"
      ]
     },
     "metadata": {
      "needs_background": "light"
     },
     "output_type": "display_data"
    }
   ],
   "source": [
    "# Generate the dataset using numpy and opencv\n",
    "\n",
    "from util.generate_dataset import make_dataset\n",
    "(dataset_train, labels_train), (dataset_test, labels_test) = make_dataset(NUM_SAMPLES, TEST_RATIO)\n",
    "\n",
    "fig, axs = plt.subplots(4, 4, figsize=(4, 4), dpi=300)\n",
    "\n",
    "for i, ax in enumerate(axs.reshape(-1)):\n",
    "    ax.imshow(dataset_train[i,:].reshape((128, 128)), cmap=\"gray\")\n",
    "    ax.axis('off')\n",
    "\n",
    "print(dataset_train.shape, labels_train.shape, dataset_test.shape, labels_test.shape)"
   ]
  },
  {
   "cell_type": "markdown",
   "metadata": {},
   "source": [
    "## 3. Single perceptron"
   ]
  },
  {
   "cell_type": "code",
   "execution_count": null,
   "metadata": {},
   "outputs": [],
   "source": [
    "from solutions.perceptron import Perceptron"
   ]
  },
  {
   "cell_type": "code",
   "execution_count": null,
   "metadata": {},
   "outputs": [],
   "source": [
    "perceptron = Perceptron(lr=LR_SLP)\n",
    "\n",
    "miss_list = perceptron.fit(dataset_train, labels_train)\n",
    "\n",
    "fig = plt.figure()\n",
    "plt.imshow(perceptron.w.reshape((128, 128)))\n",
    "plt.axis('off')\n",
    "plt.show()\n",
    "\n",
    "fig = plt.figure()\n",
    "plt.plot(miss_list)\n",
    "plt.show()"
   ]
  },
  {
   "cell_type": "markdown",
   "metadata": {},
   "source": [
    "<div style=\"background-color:rgba(255, 255, 255, 1); text-align:center; vertical-align: middle; padding:40px 0;\">\n",
    "\n",
    "#### <span style=\"color:blue\">Example weights of the SLP and graph of the missclassifications during training. 100000 Samples, 100 Epochs, 0.5 LR.</span>.\n",
    "![Example graph of the missclassifications during training, per epoch. 100.000 Samples, 100 Epochs, 0.5 LR.](img/weights_SLP.png) \n",
    "\n",
    "![Example weights of the SLP, per epoch. 100000 Samples, 100 Epochs, 0.5 LR.](img/miss_classifications_during_training_SLP.png)\n",
    "\n",
    "</div>"
   ]
  },
  {
   "cell_type": "markdown",
   "metadata": {},
   "source": [
    "## 4. SVM"
   ]
  },
  {
   "cell_type": "code",
   "execution_count": null,
   "metadata": {},
   "outputs": [],
   "source": [
    "from solutions.svm import SVM\n",
    "from sklearn.metrics import confusion_matrix, accuracy_score"
   ]
  },
  {
   "cell_type": "code",
   "execution_count": 22,
   "metadata": {},
   "outputs": [],
   "source": [
    "classifier = SVM()\n",
    "classifier.fit(dataset_train, labels_train)\n",
    "\n",
    "y_pred = classifier.predict(dataset_test)\n",
    "cm = confusion_matrix(labels_test, y_pred)\n",
    "print(cm)\n",
    "accuracy_score(labels_test,y_pred)"
   ]
  },
  {
   "cell_type": "markdown",
   "metadata": {},
   "source": [
    "### Example SVM (Based on SKLEARN)"
   ]
  },
  {
   "cell_type": "code",
   "execution_count": 20,
   "metadata": {},
   "outputs": [
    {
     "name": "stdout",
     "output_type": "stream",
     "text": [
      "[[380 120]\n",
      " [ 41 459]]\n"
     ]
    },
    {
     "data": {
      "text/plain": [
       "0.839"
      ]
     },
     "execution_count": 20,
     "metadata": {},
     "output_type": "execute_result"
    }
   ],
   "source": [
    "from sklearn.svm import SVC\n",
    "\n",
    "classifier = SVC(kernel = 'rbf', random_state = 0)\n",
    "classifier.fit(dataset_train, labels_train)\n",
    "\n",
    "y_pred = classifier.predict(dataset_test)\n",
    "\n",
    "cm = confusion_matrix(labels_test, y_pred)\n",
    "print(cm)\n",
    "accuracy_score(labels_test,y_pred)"
   ]
  },
  {
   "cell_type": "markdown",
   "metadata": {},
   "source": [
    "## 5. Multi-layer perceptron"
   ]
  },
  {
   "cell_type": "markdown",
   "metadata": {},
   "source": [
    "### Convert data to pytorch dataloader for training"
   ]
  },
  {
   "cell_type": "code",
   "execution_count": null,
   "metadata": {},
   "outputs": [],
   "source": [
    "from util.convert_dataset_to_pytorch import convert_dataset_to_pytorch\n",
    "\n",
    "dataloader_train, dataloader_test = convert_dataset_to_pytorch(dataset_train, labels_train, dataset_test, labels_test, batch_size=BATCH_SIZE)"
   ]
  },
  {
   "cell_type": "markdown",
   "metadata": {},
   "source": [
    "### Multi-layer preceptron implementation (pytorch)"
   ]
  },
  {
   "cell_type": "code",
   "execution_count": null,
   "metadata": {},
   "outputs": [],
   "source": [
    "import time\n",
    "import torch\n",
    "from torchinfo import summary\n",
    "import torch.nn as nn\n",
    "import torch.optim as optim\n",
    "\n",
    "from util.mlp_pytorch import MLP, train, evaluate, vis_loss, vis_weights"
   ]
  },
  {
   "cell_type": "code",
   "execution_count": null,
   "metadata": {},
   "outputs": [],
   "source": [
    "model = MLP(16384, 1)\n",
    "\n",
    "print(summary(model, input_size=(BATCH_SIZE, 16384)))\n",
    "optimizer = optim.SGD(model.parameters(), lr=LR_MLP)\n",
    "criterion = nn.MSELoss()\n",
    "\n",
    "device = torch.device('cuda' if torch.cuda.is_available() else 'cpu')\n",
    "\n",
    "model = model.to(device)\n",
    "criterion = criterion.to(device)\n",
    "\n",
    "loss_train_plot = []\n",
    "loss_test_plot = []\n",
    "acc_train_plot = []\n",
    "acc_test_plot = []\n",
    "input_weights = []\n",
    "hidden_weights = []\n",
    "output_weights = []\n",
    "\n",
    "best_test_loss = float('inf')\n",
    "with trange(EPOCHS_MLP, position=0, leave=True) as tepoch:\n",
    "    for epoch in tepoch:\n",
    "        tepoch.set_description(f\"Epoch {epoch}\")\n",
    "\n",
    "        train_loss, train_acc = train(model, dataloader_train, optimizer, criterion, device)\n",
    "        test_loss, test_acc = evaluate(model, dataloader_test, criterion, device)\n",
    "\n",
    "        if test_loss < best_test_loss:\n",
    "            best_test_loss = test_loss\n",
    "            torch.save(model.state_dict(), 'weights.pt')\n",
    "\n",
    "        loss_train_plot.append(train_loss)\n",
    "        loss_test_plot.append(test_loss)\n",
    "        acc_train_plot.append(train_acc*100)\n",
    "        acc_test_plot.append(test_acc*100)\n",
    "\n",
    "        input_weights.append(model.input_fc.weight.cpu().detach().numpy())\n",
    "        hidden_weights.append(model.hidden_fc.weight.cpu().detach().numpy())\n",
    "        output_weights.append(model.output_fc.weight.cpu().detach().numpy())\n",
    "\n",
    "        tepoch.set_postfix(loss_test=test_loss, accuracy_test=test_acc*100, loss_train=train_loss, accuracy_train=train_acc*100)"
   ]
  },
  {
   "cell_type": "markdown",
   "metadata": {},
   "source": [
    "### Visualize loss"
   ]
  },
  {
   "cell_type": "code",
   "execution_count": null,
   "metadata": {},
   "outputs": [],
   "source": [
    "vis_loss(loss_train_plot, loss_test_plot, acc_train_plot, acc_test_plot)"
   ]
  },
  {
   "cell_type": "markdown",
   "metadata": {},
   "source": [
    "<div style=\"background-color:rgba(255, 255, 255, 1); text-align:center; vertical-align: middle; padding:40px 0;\">\n",
    "\n",
    "#### <span style=\"color:blue\"> Loss and accuracy graph of the MLP during training (Training- + Testset). 100000 Samples, 100 Epochs, 0.01 LR.</span>.\n",
    "![h](img/loss_mlp_pytorch.png)\n",
    "\n",
    "</div>"
   ]
  },
  {
   "cell_type": "markdown",
   "metadata": {},
   "source": [
    "### Visualize weights"
   ]
  },
  {
   "cell_type": "code",
   "execution_count": null,
   "metadata": {},
   "outputs": [],
   "source": [
    "vis_weights(model)"
   ]
  },
  {
   "cell_type": "markdown",
   "metadata": {},
   "source": [
    "<div style=\"background-color:rgba(255, 255, 255, 1); text-align:center; vertical-align: middle; padding:40px 0;\">\n",
    "\n",
    "#### <span style=\"color:blue\"> Input weights, MLP Pytorch. 100000 Samples, 100 Epochs, 0.01 LR.</span>.\n",
    "![h](img/weights_MLP_pytorch_input.png)\n",
    "\n",
    "#### <span style=\"color:blue\"> Hidden weights, MLP Pytorch. 100000 Samples, 100 Epochs, 0.01 LR.</span>.\n",
    "\n",
    "![h](img/weights_MLP_pytorch_hidden.png)\n",
    "\n",
    "#### <span style=\"color:blue\"> Output weights, MLP Pytorch. 100000 Samples, 100 Epochs, 0.01 LR.</span>.\n",
    "\n",
    "![h](img/weights_MLP_pytorch_output.png)\n",
    "\n",
    "</div>"
   ]
  },
  {
   "cell_type": "markdown",
   "metadata": {},
   "source": [
    "## 6. MLP from Scratch"
   ]
  },
  {
   "cell_type": "code",
   "execution_count": null,
   "metadata": {},
   "outputs": [],
   "source": [
    "from solutions.mlp_from_scratch import MultiLayerPerceptron"
   ]
  },
  {
   "cell_type": "code",
   "execution_count": null,
   "metadata": {},
   "outputs": [],
   "source": [
    "labels_train[labels_train==-1] = 0\n",
    "labels_test[labels_test==-1] = 0\n",
    "\n",
    "Perceptron = MultiLayerPerceptron(epochs=EPOCHS_MLP, activation=\"sigmoid\", lr=LR_MLP)\n",
    "\n",
    "Perceptron.fit(dataset_train, labels_train)\n",
    "\n",
    "data_frame, acc = Perceptron.predict(dataset_train, labels_train)\n",
    "\n",
    "print(data_frame[0:20])\n",
    "print(\"Train ACC:\", acc)\n",
    "data_frame, acc = Perceptron.predict(dataset_test, labels_test)\n",
    "print(data_frame[0:20])\n",
    "print(\"Test ACC:\", acc)"
   ]
  }
 ],
 "metadata": {
  "kernelspec": {
   "display_name": "Python 3.9.7 ('PyTorch_YoloV5')",
   "language": "python",
   "name": "python3"
  },
  "language_info": {
   "codemirror_mode": {
    "name": "ipython",
    "version": 3
   },
   "file_extension": ".py",
   "mimetype": "text/x-python",
   "name": "python",
   "nbconvert_exporter": "python",
   "pygments_lexer": "ipython3",
   "version": "3.9.7"
  },
  "orig_nbformat": 4,
  "vscode": {
   "interpreter": {
    "hash": "8fcfe3120128e696d250a4af0a3d136c96d8e10ba7ef9a6bdf612df12da5f746"
   }
  }
 },
 "nbformat": 4,
 "nbformat_minor": 2
}
